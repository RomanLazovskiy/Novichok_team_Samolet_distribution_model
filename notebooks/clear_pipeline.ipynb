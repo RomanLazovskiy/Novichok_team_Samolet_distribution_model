{
 "cells": [
  {
   "cell_type": "markdown",
   "id": "f3aee886-7007-4d4b-9a68-9392ca5e2f2c",
   "metadata": {},
   "source": [
    "# 0. Default start"
   ]
  },
  {
   "cell_type": "code",
   "execution_count": 1,
   "id": "197f859b-6119-4e30-8785-6565c26caf45",
   "metadata": {
    "execution": {
     "iopub.execute_input": "2023-09-09T20:00:33.298250Z",
     "iopub.status.busy": "2023-09-09T20:00:33.298250Z",
     "iopub.status.idle": "2023-09-09T20:00:33.689407Z",
     "shell.execute_reply": "2023-09-09T20:00:33.689407Z",
     "shell.execute_reply.started": "2023-09-09T20:00:33.298250Z"
    },
    "tags": []
   },
   "outputs": [],
   "source": [
    "import pandas as pd\n",
    "import numpy as np"
   ]
  },
  {
   "cell_type": "code",
   "execution_count": 2,
   "id": "f7f816ca-69b6-4687-8e41-5af86108c6e9",
   "metadata": {
    "execution": {
     "iopub.execute_input": "2023-09-09T20:00:33.691410Z",
     "iopub.status.busy": "2023-09-09T20:00:33.691410Z",
     "iopub.status.idle": "2023-09-09T20:00:33.694060Z",
     "shell.execute_reply": "2023-09-09T20:00:33.694060Z",
     "shell.execute_reply.started": "2023-09-09T20:00:33.691410Z"
    },
    "tags": []
   },
   "outputs": [],
   "source": [
    "pd.set_option('display.max_rows', 100)\n",
    "pd.set_option('display.max_columns', None)"
   ]
  },
  {
   "cell_type": "code",
   "execution_count": 3,
   "id": "0d167717-2493-4b3b-900f-8e458d30ea21",
   "metadata": {
    "execution": {
     "iopub.execute_input": "2023-09-09T20:00:34.023508Z",
     "iopub.status.busy": "2023-09-09T20:00:34.023508Z",
     "iopub.status.idle": "2023-09-09T20:00:34.025688Z",
     "shell.execute_reply": "2023-09-09T20:00:34.025688Z",
     "shell.execute_reply.started": "2023-09-09T20:00:34.023508Z"
    },
    "tags": []
   },
   "outputs": [],
   "source": [
    "np.random.seed(42)"
   ]
  },
  {
   "cell_type": "code",
   "execution_count": 4,
   "id": "83491993-6181-4a4e-a599-16f4f2eae3ef",
   "metadata": {
    "execution": {
     "iopub.execute_input": "2023-09-09T20:00:35.112509Z",
     "iopub.status.busy": "2023-09-09T20:00:35.112509Z",
     "iopub.status.idle": "2023-09-09T20:00:37.763086Z",
     "shell.execute_reply": "2023-09-09T20:00:37.763086Z",
     "shell.execute_reply.started": "2023-09-09T20:00:35.112509Z"
    },
    "tags": []
   },
   "outputs": [
    {
     "name": "stderr",
     "output_type": "stream",
     "text": [
      "C:\\Users\\Artem\\AppData\\Local\\Temp\\ipykernel_14232\\1363469232.py:1: DtypeWarning: Columns (51,52,53,54,55,56,57,58,59,60,61,62,63,64,65,66,87,88,89,90,91,92,93,94,95,96,97,98,99,100,101,102,131,132,133,135,136,139,140,141,142,143,144,145,146,147,148,149,151,152,155,156,157,158,159,160,161,163,164,165,167,168,169,171,172,173,174,175,176,177,178,183,184,185,186,187,188,189,190,191,192,193,194,195,196,197,198,203,204,205,206,207,208,209,210,211,212,213,214,215,216,217,218,223,224,227,239,240,241,242,243,244,245,246,459,460,461,467,468,469,515,516,523,524,531,532,539,540,547,548,555,556,563,564,565,567,571,572,573,575,579,580,581,582,583,587,588,595,596,603,604,611,612,613,615,795,796,797,799,821,822,825,826,1031,1032,1033,1034,1035,1036,1037,1039,1040,1041,1042,1043,1044,1045,1047,1048,1049,1050,1051,1052,1055,1056,1057,1058,1059,1060,1063,1064,1065,1067,1068,1069,1072,1073,1074,1075,1076,1077,1078,1172,1173,1174,1176,1177,1178,1179,1180,1181,1182,1275,1276,1277,1278,1279,1280,1281,1282,1447,1448,1449,1450,1451,1452,1453,1454,1649,1650,1651,1652,1653,1654,1655,1656,2193,2194,2195,2196,2199) have mixed types. Specify dtype option on import or set low_memory=False.\n",
      "  df = pd.read_csv('train_dataset_Самолет.csv')\n"
     ]
    }
   ],
   "source": [
    "df = pd.read_csv('train_dataset_Самолет.csv')"
   ]
  },
  {
   "cell_type": "code",
   "execution_count": 5,
   "id": "a7c43fa3-e99a-48a7-b654-170fe24bd253",
   "metadata": {
    "execution": {
     "iopub.execute_input": "2023-09-09T20:01:48.200473Z",
     "iopub.status.busy": "2023-09-09T20:01:48.199472Z",
     "iopub.status.idle": "2023-09-09T20:01:48.202983Z",
     "shell.execute_reply": "2023-09-09T20:01:48.202983Z",
     "shell.execute_reply.started": "2023-09-09T20:01:48.200473Z"
    },
    "tags": []
   },
   "outputs": [],
   "source": [
    "def device(data):\n",
    "    columns = [f'col{n}' for n in range(529, 544)]\n",
    "    new_feature_name = 'device'\n",
    "    most_common_value = data[columns].mode(axis=1).iloc[:, 0]\n",
    "    data[new_feature_name] = most_common_value\n",
    "    return data"
   ]
  },
  {
   "cell_type": "code",
   "execution_count": 6,
   "id": "3796046a-bb36-451e-9f97-98f50363f99d",
   "metadata": {
    "execution": {
     "iopub.execute_input": "2023-09-09T20:01:48.474229Z",
     "iopub.status.busy": "2023-09-09T20:01:48.474229Z",
     "iopub.status.idle": "2023-09-09T20:01:48.477246Z",
     "shell.execute_reply": "2023-09-09T20:01:48.477246Z",
     "shell.execute_reply.started": "2023-09-09T20:01:48.474229Z"
    },
    "tags": []
   },
   "outputs": [],
   "source": [
    "def info_redirect(data):\n",
    "    columns = [f'col{n}' for n in range(561, 576)]\n",
    "    mail_info = 'info_mail'\n",
    "    most_common_value = any(['sms' in data[columns], 'email' in data[columns]])\n",
    "    data[mail_info] = int(most_common_value)\n",
    "    \n",
    "    invite_count = 'sale_invite_count'\n",
    "    most_common_value = (data[columns].notnull()).sum(axis=1)\n",
    "    data[invite_count] = most_common_value\n",
    "    return data"
   ]
  },
  {
   "cell_type": "code",
   "execution_count": 7,
   "id": "5949dc27-240c-424b-8a8d-ce705bc9d349",
   "metadata": {
    "execution": {
     "iopub.execute_input": "2023-09-09T20:01:48.767466Z",
     "iopub.status.busy": "2023-09-09T20:01:48.767466Z",
     "iopub.status.idle": "2023-09-09T20:01:48.771469Z",
     "shell.execute_reply": "2023-09-09T20:01:48.771469Z",
     "shell.execute_reply.started": "2023-09-09T20:01:48.767466Z"
    },
    "tags": []
   },
   "outputs": [],
   "source": [
    "def generate_new_features(data):\n",
    "    \"\"\"\n",
    "    Генерирует новые признаки на основе заданных колонок.\n",
    "    :param data: pandas.DataFrame, содержащий данные.\n",
    "    :param columns: список, содержащий названия колонок для генерации новых признаков.\n",
    "    :return: pandas.DataFrame с добавленными новыми признаками.\n",
    "    \"\"\"\n",
    "    columns = [f'col{n}' for n in range(465, 473)]\n",
    "    new_feature_name = 'filter' + '_most_common'\n",
    "    most_common_value = data[columns].mode(axis=1).iloc[:, 0]\n",
    "    data[new_feature_name] = most_common_value\n",
    "\n",
    "    count_feature_name = 'filter' + '_count'\n",
    "    count_of_most_common = (data[columns] == most_common_value[..., None]).sum(axis=1)\n",
    "    data[count_feature_name] = count_of_most_common\n",
    "\n",
    "    non_zero_feature_name = 'filter' + '_non_zero_count'\n",
    "    non_zero_count = (data[columns] != 0).sum(axis=1)\n",
    "    data[non_zero_feature_name] = non_zero_count\n",
    "\n",
    "    return data"
   ]
  },
  {
   "cell_type": "code",
   "execution_count": 8,
   "id": "98433fe9-2c00-47e6-80df-69990c1cb88d",
   "metadata": {
    "execution": {
     "iopub.execute_input": "2023-09-09T20:01:49.174109Z",
     "iopub.status.busy": "2023-09-09T20:01:49.173108Z",
     "iopub.status.idle": "2023-09-09T20:01:49.176939Z",
     "shell.execute_reply": "2023-09-09T20:01:49.176939Z",
     "shell.execute_reply.started": "2023-09-09T20:01:49.173108Z"
    },
    "tags": []
   },
   "outputs": [],
   "source": [
    "def calculate_quantitative_metrics(data):\n",
    "    \"\"\"\n",
    "    Вычисляет количественные метрики на основе заданных колонок для каждой строки в датафрейме.\n",
    "    :param data: pandas.DataFrame, содержащий данные.\n",
    "    :param columns: список, содержащий названия колонок для вычисления метрик.\n",
    "    :return: pandas.DataFrame с добавленными количественными метриками.\n",
    "    \"\"\"\n",
    "    columns = [f'col{n}' for n in range(457,465)]\n",
    "    # Количество уникальных страниц\n",
    "    unique_value = data[columns].nunique(axis=1)\n",
    "    data['unique_pages_count'] = unique_value\n",
    "\n",
    "    # Количество общих страниц\n",
    "    count_feature_name = 'visit_site' + '_count'\n",
    "    count_of_most_common = (data[columns].notnull()).sum(axis=1)\n",
    "    data[count_feature_name] = count_of_most_common\n",
    "\n",
    "    return data"
   ]
  },
  {
   "cell_type": "code",
   "execution_count": 9,
   "id": "aa326506-ae7c-465a-9d2f-e8a9bfde31f9",
   "metadata": {
    "execution": {
     "iopub.execute_input": "2023-09-09T20:01:49.942464Z",
     "iopub.status.busy": "2023-09-09T20:01:49.942464Z",
     "iopub.status.idle": "2023-09-09T20:01:55.832891Z",
     "shell.execute_reply": "2023-09-09T20:01:55.832891Z",
     "shell.execute_reply.started": "2023-09-09T20:01:49.942464Z"
    },
    "tags": []
   },
   "outputs": [
    {
     "name": "stderr",
     "output_type": "stream",
     "text": [
      "C:\\Users\\Artem\\AppData\\Local\\Temp\\ipykernel_14232\\3852941217.py:14: FutureWarning: Support for multi-dimensional indexing (e.g. `obj[:, None]`) is deprecated and will be removed in a future version.  Convert to a numpy array before indexing instead.\n",
      "  count_of_most_common = (data[columns] == most_common_value[..., None]).sum(axis=1)\n"
     ]
    }
   ],
   "source": [
    "df = device(df)\n",
    "df = info_redirect(df)\n",
    "df = generate_new_features(df)\n",
    "df = calculate_quantitative_metrics(df)"
   ]
  },
  {
   "cell_type": "markdown",
   "id": "31a4e421-c12d-4c0b-a5fb-62cdb290888a",
   "metadata": {},
   "source": [
    "# 1. Data analyze"
   ]
  },
  {
   "cell_type": "code",
   "execution_count": 10,
   "id": "79bdc231-a416-48d6-8a08-f16c822aa030",
   "metadata": {
    "execution": {
     "iopub.execute_input": "2023-09-09T20:01:55.834395Z",
     "iopub.status.busy": "2023-09-09T20:01:55.833400Z",
     "iopub.status.idle": "2023-09-09T20:01:55.837012Z",
     "shell.execute_reply": "2023-09-09T20:01:55.837012Z",
     "shell.execute_reply.started": "2023-09-09T20:01:55.833400Z"
    },
    "tags": []
   },
   "outputs": [],
   "source": [
    "def count_missing_values(df):\n",
    "    \"\"\"\n",
    "    Функция для подсчета пропусков в указанном столбце DataFrame. \n",
    "    Параметры:\n",
    "    df (pd.DataFrame): Исходный DataFrame. \n",
    "    Возвращает:\n",
    "    float: Процент пропусков в столбце.\"\"\"\n",
    "    total_rows = df.shape[0]  # Общее количество строк в DataFrame\n",
    "    missing_values = df.isnull().sum()  # Подсчет пропусков в столбце\n",
    "\n",
    "    # Вычисление процента пропусков\n",
    "    missing_percentage = (missing_values / total_rows) * 100\n",
    "\n",
    "    return missing_percentage"
   ]
  },
  {
   "cell_type": "code",
   "execution_count": 11,
   "id": "37ddd8ca-2a89-44d0-a0a3-cfffdf7f5dc1",
   "metadata": {
    "execution": {
     "iopub.execute_input": "2023-09-09T20:01:55.838008Z",
     "iopub.status.busy": "2023-09-09T20:01:55.838008Z",
     "iopub.status.idle": "2023-09-09T20:01:56.349656Z",
     "shell.execute_reply": "2023-09-09T20:01:56.349656Z",
     "shell.execute_reply.started": "2023-09-09T20:01:55.838008Z"
    },
    "tags": []
   },
   "outputs": [],
   "source": [
    "df = df.replace({'nan': None})"
   ]
  },
  {
   "cell_type": "code",
   "execution_count": 12,
   "id": "a82958ca-fde5-46ac-a8b6-d58be2f914a0",
   "metadata": {
    "execution": {
     "iopub.execute_input": "2023-09-09T20:01:56.350626Z",
     "iopub.status.busy": "2023-09-09T20:01:56.350626Z",
     "iopub.status.idle": "2023-09-09T20:01:56.355576Z",
     "shell.execute_reply": "2023-09-09T20:01:56.355576Z",
     "shell.execute_reply.started": "2023-09-09T20:01:56.350626Z"
    },
    "tags": []
   },
   "outputs": [
    {
     "data": {
      "text/plain": [
       "(14456, 2674)"
      ]
     },
     "execution_count": 12,
     "metadata": {},
     "output_type": "execute_result"
    }
   ],
   "source": [
    "df.shape"
   ]
  },
  {
   "cell_type": "code",
   "execution_count": 13,
   "id": "28d898ae-dc5d-4c0b-b6c2-63332c448476",
   "metadata": {
    "execution": {
     "iopub.execute_input": "2023-09-09T20:01:56.356573Z",
     "iopub.status.busy": "2023-09-09T20:01:56.355576Z",
     "iopub.status.idle": "2023-09-09T20:02:00.716736Z",
     "shell.execute_reply": "2023-09-09T20:02:00.716736Z",
     "shell.execute_reply.started": "2023-09-09T20:01:56.356573Z"
    },
    "tags": []
   },
   "outputs": [
    {
     "data": {
      "text/plain": [
       "(14456, 2221)"
      ]
     },
     "execution_count": 13,
     "metadata": {},
     "output_type": "execute_result"
    }
   ],
   "source": [
    "df = df.T.drop_duplicates().T\n",
    "df.shape"
   ]
  },
  {
   "cell_type": "code",
   "execution_count": 14,
   "id": "16a52b76-42e5-420e-9395-c38c63381799",
   "metadata": {
    "execution": {
     "iopub.execute_input": "2023-09-09T20:02:00.717734Z",
     "iopub.status.busy": "2023-09-09T20:02:00.717734Z",
     "iopub.status.idle": "2023-09-09T20:02:00.917284Z",
     "shell.execute_reply": "2023-09-09T20:02:00.917284Z",
     "shell.execute_reply.started": "2023-09-09T20:02:00.717734Z"
    },
    "tags": []
   },
   "outputs": [
    {
     "data": {
      "text/plain": [
       "1878"
      ]
     },
     "execution_count": 14,
     "metadata": {},
     "output_type": "execute_result"
    }
   ],
   "source": [
    "miss_pos_col = count_missing_values(df[df['target'] == 1])\n",
    "threshold = 75 # percent value in col for drop\n",
    "to_drop = miss_pos_col[miss_pos_col >= threshold].index.tolist()\n",
    "len(to_drop)"
   ]
  },
  {
   "cell_type": "code",
   "execution_count": 15,
   "id": "1f6522b7-60f5-427a-8cf0-03c39324089b",
   "metadata": {
    "execution": {
     "iopub.execute_input": "2023-09-09T20:02:00.918282Z",
     "iopub.status.busy": "2023-09-09T20:02:00.918282Z",
     "iopub.status.idle": "2023-09-09T20:02:01.123476Z",
     "shell.execute_reply": "2023-09-09T20:02:01.123476Z",
     "shell.execute_reply.started": "2023-09-09T20:02:00.918282Z"
    },
    "tags": []
   },
   "outputs": [],
   "source": [
    "df = df.drop(to_drop, axis=1)"
   ]
  },
  {
   "cell_type": "code",
   "execution_count": 16,
   "id": "9d5c68cc-f17b-4a43-99ba-912ebc8233f5",
   "metadata": {
    "execution": {
     "iopub.execute_input": "2023-09-09T20:02:01.124471Z",
     "iopub.status.busy": "2023-09-09T20:02:01.124471Z",
     "iopub.status.idle": "2023-09-09T20:02:01.128114Z",
     "shell.execute_reply": "2023-09-09T20:02:01.128114Z",
     "shell.execute_reply.started": "2023-09-09T20:02:01.124471Z"
    },
    "tags": []
   },
   "outputs": [
    {
     "data": {
      "text/plain": [
       "(14456, 343)"
      ]
     },
     "execution_count": 16,
     "metadata": {},
     "output_type": "execute_result"
    }
   ],
   "source": [
    "df.shape"
   ]
  },
  {
   "cell_type": "code",
   "execution_count": 17,
   "id": "7c6fe804-bcb1-48bd-a5af-7732c43863e7",
   "metadata": {
    "execution": {
     "iopub.execute_input": "2023-09-09T20:02:01.129111Z",
     "iopub.status.busy": "2023-09-09T20:02:01.128114Z",
     "iopub.status.idle": "2023-09-09T20:02:01.138927Z",
     "shell.execute_reply": "2023-09-09T20:02:01.138927Z",
     "shell.execute_reply.started": "2023-09-09T20:02:01.129111Z"
    },
    "tags": []
   },
   "outputs": [],
   "source": [
    "def intersection_col(df, list_cols):\n",
    "    if isinstance(list_cols, list):\n",
    "        return list(set(df.columns.tolist()) & set(list_cols))\n",
    "    else:\n",
    "        return list(set(df.columns.tolist()) & set(list_cols.columns.tolist()))"
   ]
  },
  {
   "cell_type": "code",
   "execution_count": 18,
   "id": "074481ca-ae7c-411d-b493-97c7f39a5706",
   "metadata": {
    "execution": {
     "iopub.execute_input": "2023-09-09T20:02:01.139923Z",
     "iopub.status.busy": "2023-09-09T20:02:01.139923Z",
     "iopub.status.idle": "2023-09-09T20:02:01.142780Z",
     "shell.execute_reply": "2023-09-09T20:02:01.142780Z",
     "shell.execute_reply.started": "2023-09-09T20:02:01.139923Z"
    },
    "tags": []
   },
   "outputs": [],
   "source": [
    "cat_all_columns = ['col520', 'col528', 'col536',\n",
    " 'col544', 'col552', 'col592', 'col600', 'col608', 'col1454',\n",
    "                  'device', 'info_mail', 'filter_most_common']\n",
    "to_drop_cat = ['col552', 'col1454']"
   ]
  },
  {
   "cell_type": "code",
   "execution_count": 19,
   "id": "3f1bda77-46f2-403b-98d4-592caff60f98",
   "metadata": {
    "execution": {
     "iopub.execute_input": "2023-09-09T20:02:01.143777Z",
     "iopub.status.busy": "2023-09-09T20:02:01.142780Z",
     "iopub.status.idle": "2023-09-09T20:02:01.146892Z",
     "shell.execute_reply": "2023-09-09T20:02:01.146892Z",
     "shell.execute_reply.started": "2023-09-09T20:02:01.143777Z"
    },
    "tags": []
   },
   "outputs": [
    {
     "data": {
      "text/plain": [
       "1"
      ]
     },
     "execution_count": 19,
     "metadata": {},
     "output_type": "execute_result"
    }
   ],
   "source": [
    "cat_cols = intersection_col(df, cat_all_columns)\n",
    "to_drop = list(set(to_drop_cat) & set(cat_cols))\n",
    "cat_cols = list(set(cat_cols) - set(to_drop))\n",
    "len(cat_cols)"
   ]
  },
  {
   "cell_type": "code",
   "execution_count": 20,
   "id": "315adc25-de83-4565-bfee-a8d2b7cc11dc",
   "metadata": {
    "execution": {
     "iopub.execute_input": "2023-09-09T20:02:01.147890Z",
     "iopub.status.busy": "2023-09-09T20:02:01.147890Z",
     "iopub.status.idle": "2023-09-09T20:02:01.194016Z",
     "shell.execute_reply": "2023-09-09T20:02:01.194016Z",
     "shell.execute_reply.started": "2023-09-09T20:02:01.147890Z"
    },
    "tags": []
   },
   "outputs": [],
   "source": [
    "df = df.drop(to_drop, axis=1)"
   ]
  },
  {
   "cell_type": "code",
   "execution_count": 21,
   "id": "9e406575-aa28-4b45-a3a6-80446ee30c11",
   "metadata": {
    "execution": {
     "iopub.execute_input": "2023-09-09T20:02:02.131458Z",
     "iopub.status.busy": "2023-09-09T20:02:02.131458Z",
     "iopub.status.idle": "2023-09-09T20:02:02.134720Z",
     "shell.execute_reply": "2023-09-09T20:02:02.134720Z",
     "shell.execute_reply.started": "2023-09-09T20:02:02.131458Z"
    },
    "tags": []
   },
   "outputs": [
    {
     "data": {
      "text/plain": [
       "(14456, 342)"
      ]
     },
     "execution_count": 21,
     "metadata": {},
     "output_type": "execute_result"
    }
   ],
   "source": [
    "df.shape"
   ]
  },
  {
   "cell_type": "code",
   "execution_count": 22,
   "id": "e3c1b979-92c5-409e-a063-e9d3b9924980",
   "metadata": {
    "execution": {
     "iopub.execute_input": "2023-09-09T20:02:02.762983Z",
     "iopub.status.busy": "2023-09-09T20:02:02.762983Z",
     "iopub.status.idle": "2023-09-09T20:02:08.290408Z",
     "shell.execute_reply": "2023-09-09T20:02:08.290408Z",
     "shell.execute_reply.started": "2023-09-09T20:02:02.762983Z"
    },
    "tags": []
   },
   "outputs": [
    {
     "data": {
      "text/plain": [
       "(None, None)"
      ]
     },
     "execution_count": 22,
     "metadata": {},
     "output_type": "execute_result"
    }
   ],
   "source": [
    "cols = df.columns.tolist()\n",
    "cols.remove('client_id'), cols.remove('target'), cols.remove('report_date')\n",
    "df[cols] = df[cols].astype(np.float64)\n",
    "\n",
    "category_cols = []\n",
    "\n",
    "for col in df.columns.tolist():\n",
    "    if col == 'report_date':\n",
    "        continue\n",
    "    if df[col].max() <= 40:\n",
    "        category_cols.append(col)\n",
    "category_cols.remove('col2663'), category_cols.remove('target')"
   ]
  },
  {
   "cell_type": "code",
   "execution_count": 23,
   "id": "9997f433-cc25-4f97-8cc8-3b3331e531b4",
   "metadata": {
    "execution": {
     "iopub.execute_input": "2023-09-09T20:02:08.291913Z",
     "iopub.status.busy": "2023-09-09T20:02:08.290917Z",
     "iopub.status.idle": "2023-09-09T20:02:08.293585Z",
     "shell.execute_reply": "2023-09-09T20:02:08.293585Z",
     "shell.execute_reply.started": "2023-09-09T20:02:08.291913Z"
    },
    "tags": []
   },
   "outputs": [],
   "source": [
    "# df[category_cols] = df[category_cols].astype(str)"
   ]
  },
  {
   "cell_type": "markdown",
   "id": "2a3c6f53-5306-434c-825e-93aa1dba7160",
   "metadata": {},
   "source": [
    "# 2. Model builder"
   ]
  },
  {
   "cell_type": "code",
   "execution_count": 24,
   "id": "90462f4c-4a36-42e7-91ae-c51e5709fea6",
   "metadata": {
    "execution": {
     "iopub.execute_input": "2023-09-09T20:02:08.294583Z",
     "iopub.status.busy": "2023-09-09T20:02:08.293585Z",
     "iopub.status.idle": "2023-09-09T20:02:09.178752Z",
     "shell.execute_reply": "2023-09-09T20:02:09.178752Z",
     "shell.execute_reply.started": "2023-09-09T20:02:08.294583Z"
    },
    "tags": []
   },
   "outputs": [],
   "source": [
    "from sklearn.metrics import classification_report\n",
    "from eli5.sklearn import PermutationImportance\n",
    "from lightgbm import LGBMClassifier\n",
    "from category_encoders import CatBoostEncoder"
   ]
  },
  {
   "cell_type": "code",
   "execution_count": 25,
   "id": "d5bcc761-e9c0-443e-84cf-43ee54a2205a",
   "metadata": {
    "execution": {
     "iopub.execute_input": "2023-09-09T20:02:09.179749Z",
     "iopub.status.busy": "2023-09-09T20:02:09.179749Z",
     "iopub.status.idle": "2023-09-09T20:02:09.184962Z",
     "shell.execute_reply": "2023-09-09T20:02:09.184962Z",
     "shell.execute_reply.started": "2023-09-09T20:02:09.179749Z"
    },
    "tags": []
   },
   "outputs": [],
   "source": [
    "from sklearn.metrics import (\n",
    "    roc_auc_score,\n",
    "    accuracy_score,\n",
    "    f1_score,\n",
    "    precision_score,\n",
    "    recall_score,\n",
    "    confusion_matrix,\n",
    "    average_precision_score,\n",
    "    log_loss,\n",
    "    )\n",
    "def evaluate_metrics(y_true, y_pred):\n",
    "    roc_auc = roc_auc_score(y_true, y_pred) \n",
    "    accuracy = accuracy_score(y_true, (y_pred > 0.5).astype(int)) \n",
    "    precision = precision_score(y_true, (y_pred > 0.5).astype(int)) \n",
    "    recall = recall_score(y_true, (y_pred > 0.5).astype(int))\n",
    "    f1 = f1_score(y_true, (y_pred > 0.5).astype(int)) \n",
    "    # confusion = confusion_matrix(y_true, (y_pred > 0.5).astype(int))\n",
    "    pr_auc = average_precision_score(y_true, y_pred) \n",
    "    logloss = log_loss(y_true, y_pred)\n",
    "\n",
    "    print(f\"ROC AUC: {roc_auc}\", end='; ')\n",
    "    print(f\"Accuracy: {accuracy}\", end='; ')\n",
    "    print(f\"Precision: {precision}\", end='; ')\n",
    "    print(f\"Recall: {recall}\", end='; ')\n",
    "    print(f\"F1 Score: {f1}\", end='; ')\n",
    "    print(f\"PR AUC: {pr_auc}\", end='; ')\n",
    "    print(f\"Log Loss: {logloss}\")"
   ]
  },
  {
   "cell_type": "code",
   "execution_count": 26,
   "id": "6907cde0-9b4f-4cec-a44f-4c31c3c6f9fa",
   "metadata": {
    "execution": {
     "iopub.execute_input": "2023-09-09T20:02:09.185954Z",
     "iopub.status.busy": "2023-09-09T20:02:09.185954Z",
     "iopub.status.idle": "2023-09-09T20:02:09.497651Z",
     "shell.execute_reply": "2023-09-09T20:02:09.497651Z",
     "shell.execute_reply.started": "2023-09-09T20:02:09.185954Z"
    },
    "tags": []
   },
   "outputs": [],
   "source": [
    "import numpy as np\n",
    "import pandas as pd\n",
    "from sklearn.model_selection import train_test_split\n",
    "from sklearn.pipeline import Pipeline\n",
    "from sklearn.base import BaseEstimator, ClassifierMixin\n",
    "\n",
    "from eli5.sklearn import PermutationImportance\n",
    "from imblearn.over_sampling import SMOTE\n",
    "import optuna\n",
    "from optuna.integration import LightGBMPruningCallback\n",
    "import lightgbm as lgb\n",
    "from copy import deepcopy\n",
    "\n",
    "    \n",
    "class FeatureSelector(BaseEstimator, ClassifierMixin):\n",
    "    def __init__(self, features):\n",
    "        \"\"\"\n",
    "        Класс для отбора заданных признаков.\n",
    "        \n",
    "        Параметры:\n",
    "        features (list): Список заданных признаков.\n",
    "        \"\"\"\n",
    "        self.features = features\n",
    "    \n",
    "    def fit(self, X, y=None):\n",
    "        return self\n",
    "    \n",
    "    def transform(self, X, y=None):\n",
    "        \"\"\"\n",
    "        Метод для отбора заданных признаков из датасета.\n",
    "        \n",
    "        Параметры:\n",
    "        df (pd.DataFrame): Входной датасет.\n",
    "        \n",
    "        Возвращает:\n",
    "        pd.DataFrame: Датасет, содержащий только отобранные признаки.\n",
    "        \n",
    "        Исключения:\n",
    "        ValueError: Генерируется, если какие-то из заданных признаков отсутствуют во входном датасете.\n",
    "        \"\"\"\n",
    "        # Проверяем наличие всех заданных признаков во входном датасете\n",
    "        missing_features = set(self.features) - set(df.columns)\n",
    "        if missing_features:\n",
    "            raise ValueError(f\"Признаки {missing_features} отсутствуют во входном датасете.\")\n",
    "        \n",
    "        # Отбираем заданные признаки из датасета\n",
    "        selected_df = X[self.features]\n",
    "        \n",
    "        return selected_df\n",
    "\n",
    "def objective(trial, trf, df_train, df_val, target_col='target'):\n",
    "    params = {\n",
    "        'objective': 'binary',\n",
    "        'metric': 'auc',\n",
    "        'boosting_type': 'gbdt',\n",
    "        'num_leaves': trial.suggest_int('num_leaves', 2, 256),\n",
    "        'learning_rate': trial.suggest_float('learning_rate', 0.001, 0.1, log=True),\n",
    "        'feature_fraction': trial.suggest_float('feature_fraction', 0.1, 1.0),\n",
    "        'bagging_fraction': trial.suggest_float('bagging_fraction', 0.1, 1.0),\n",
    "        'bagging_freq': trial.suggest_int('bagging_freq', 1, 10),\n",
    "        'max_depth': trial.suggest_int('max_depth', 3, 12),\n",
    "        'min_child_samples': trial.suggest_int('min_child_samples', 1, 100),\n",
    "        'min_sum_hessian_in_leaf ': trial.suggest_float('min_sum_hessian_in_leaf', 0.0, 10.0),\n",
    "        'is_unbalance': trial.suggest_categorical('is_unbalance', [True]),\n",
    "        'random_state': trial.suggest_categorical('random_state', [42])\n",
    "    }\n",
    "    pruning_callback = LightGBMPruningCallback(trial, \"auc\")\n",
    "    trf = trf.fit(df_train, df_train[target_col])\n",
    "\n",
    "    model = lgb.train(params, lgb.Dataset(trf.transform(df_train), label=df_train[target_col]), num_boost_round=1000,\n",
    "                    valid_sets=[lgb.Dataset(trf.transform(df_val), label=df_val[target_col])], \n",
    "                    early_stopping_rounds=100, verbose_eval=False, callbacks=[pruning_callback])\n",
    "   \n",
    "    y_pred = model.predict(trf.transform(df_val))\n",
    "\n",
    "    evaluate_metrics(df_val[target_col], y_pred)\n",
    "    roc_auc = roc_auc_score(df_val[target_col], y_pred) \n",
    "\n",
    "    return roc_auc\n",
    "\n",
    "def split_dataset_by_target(data, target, n):\n",
    "    \"\"\"\n",
    "    Разделить датасет на n групп, с одинаковым положительным таргетом и разными негативными.\n",
    "    :param data: pandas.DataFrame, содержащий данные для разделения.\n",
    "    :param target: str, описывающий положительный таргет.\n",
    "    :param n: количество групп для разделения (и, соответственно, количество моделей).\n",
    "    :return: список, содержащий n кортежей из данных для обучения.\n",
    "    \"\"\"\n",
    "    sorted_data = data.sort_values(target, kind='mergesort')\n",
    "    positive_set_index = sorted_data.index[sorted_data[target] == 1]\n",
    "    positive_set_size = len(positive_set_index)\n",
    "    negative_set_index = sorted_data.index[sorted_data[target] == 0]\n",
    "    negative_set_size = len(negative_set_index)\n",
    "    negative_sets = []\n",
    "    for i in range(n-1):\n",
    "        negative_sets.append(negative_set_index[i*(negative_set_size//n):(i+1)*(negative_set_size//n)])\n",
    "    negative_sets.append(negative_set_index[(n-1)*(negative_set_size//n):])\n",
    "    splitted_data = []\n",
    "    for i in range(n):\n",
    "        negative_index = negative_sets[i]\n",
    "        train_data_index = positive_set_index.append(negative_index)\n",
    "        # test_data_index = negative_set_index.difference(negative_index)\n",
    "        train_data = data.loc[train_data_index]\n",
    "        # test_data = data.loc[test_data_index]\n",
    "        splitted_data.append(train_data)\n",
    "    return splitted_data\n",
    "    \n",
    "class ModelBuilder(object):\n",
    "    def __init__(self, cat_cols, features_name, ml_cfg, target_col='target', params=None):\n",
    "        \n",
    "        self.features = features_name\n",
    "        self.cat_cols = cat_cols\n",
    "        self.target_col = target_col\n",
    "        self.cfg = ml_cfg\n",
    "        selector = FeatureSelector(features=features_name)\n",
    "        enc = CatBoostEncoder(cols=cat_cols)\n",
    "        lgbm = LGBMClassifier()\n",
    "        self.model = Pipeline([('sel', selector), ('enc', enc), ('lgbm', lgbm)])      \n",
    "        self.model.set_params(**params) \n",
    "        \n",
    "        \n",
    "    def train(self, df_train):\n",
    "        model = self.model.fit(df_train, df_train[self.target_col])\n",
    "        return model\n",
    "        \n",
    "    def select_features(self, df_train, df_val):\n",
    "\n",
    "        model = self.train(df_train)\n",
    "        transformer = Pipeline(model.steps[:-1])\n",
    "        model = model.steps[-1][-1]\n",
    "        transformed_val_data = transformer.transform(df_val)\n",
    "\n",
    "        print('start feature select...')\n",
    "        perm = PermutationImportance(model, random_state=42) \\\n",
    "                                    .fit(transformed_val_data, df_val[self.target_col])\n",
    "        print('end feature select...')\n",
    "\n",
    "        feature_importances = list(zip(transformed_val_data.columns, perm.feature_importances_))\n",
    "        feature_importances.sort(key=lambda x: x[1], reverse=True)\n",
    "        selected_featurs = [name_col for name_col, value in feature_importances if value > 0]\n",
    "        print(f'selected {len(selected_featurs)} out of {len(df_train.columns)}')\n",
    "        \n",
    "        cat_cols = list(set(self.cat_cols) & set(selected_featurs))\n",
    "        selected_features = {'sel__features': selected_featurs,'enc__cols': cat_cols}\n",
    "        return selected_features\n",
    "    \n",
    "    def params_tuning(self, df_train, df_val, model):\n",
    "        print('start tuning...')\n",
    "        study = optuna.create_study(direction='maximize')\n",
    "        transformer = Pipeline(model.steps[:-1])\n",
    "        study.optimize(lambda trial: objective(trial, transformer, df_train, df_val),\n",
    "                       n_jobs=1, n_trials=self.cfg['n_trails'])\n",
    "        print('end tuning...')\n",
    "\n",
    "        best_params = study.best_params\n",
    "        best_score = study.best_value\n",
    "        best_params = {f'lgbm__{k}':v for k,v in best_params.items()}\n",
    "        # self.model.set_params(**best_params)\n",
    "        print(f'best params: {best_params}')\n",
    "        print(f'best score: {best_score}')\n",
    "        return best_params\n",
    "    \n",
    "    def build(self, df):\n",
    "        print('start build model...')\n",
    "        df_train, df_test = train_test_split(df, random_state=42, test_size=self.cfg['test_size'],\n",
    "                                            shuffle=True, stratify=df[self.target_col])\n",
    "        \n",
    "        test = split_dataset_by_target(df_train, self.target_col, self.cfg['n_split_df'])\n",
    "        \n",
    "        models = []\n",
    "        \n",
    "        for df in test:\n",
    "            df_train, df_val = train_test_split(df, random_state=42, test_size=self.cfg['test_size'],\n",
    "                                            shuffle=True, stratify=df[self.target_col])\n",
    "            \n",
    "            features = self.select_features(df_train, df_val)\n",
    "            model = deepcopy(self.model)\n",
    "            model.set_params(**features)\n",
    "            best_params = self.params_tuning(df_train, df_val, model)\n",
    "            model.set_params(**best_params)\n",
    "\n",
    "            model.fit(df_train, df_train[self.target_col])\n",
    "\n",
    "            y_pred = model.predict(df_val)\n",
    "            metrics = roc_auc_score(df_val[self.target_col], y_pred)\n",
    "            print(f'roc_auc on validate data = {metrics}')\n",
    "            models.append(model)\n",
    "        preds = []\n",
    "        for m in models:\n",
    "            preds.append(m.predict_proba(df_test)[:, 1])\n",
    "        result = pd.DataFrame(preds).mean()\n",
    "        print('metrics on test data:')\n",
    "        evaluate_metrics(df_test['target'], result)\n",
    "        return models"
   ]
  },
  {
   "cell_type": "markdown",
   "id": "490da6d1-6870-4537-a98b-2e8f2458a28c",
   "metadata": {},
   "source": [
    "# 3. Create and get trainable model"
   ]
  },
  {
   "cell_type": "code",
   "execution_count": 27,
   "id": "c49d2898-b82a-449a-87a3-ef4c1378ada0",
   "metadata": {
    "execution": {
     "iopub.execute_input": "2023-09-09T20:02:09.498777Z",
     "iopub.status.busy": "2023-09-09T20:02:09.497651Z",
     "iopub.status.idle": "2023-09-09T20:02:09.501489Z",
     "shell.execute_reply": "2023-09-09T20:02:09.501489Z",
     "shell.execute_reply.started": "2023-09-09T20:02:09.498777Z"
    },
    "tags": []
   },
   "outputs": [],
   "source": [
    "exclude_cols = ['target', 'client_id', 'report_date']\n",
    "features = df.columns.tolist()\n",
    "features = list(set(features) - set(exclude_cols))\n",
    "category_cols = list(set(features) & set(category_cols))\n",
    "default_params = {'lgbm__n_estimators': 100, 'lgbm__max_depth': 10, \n",
    "                  'lgbm__random_state': 42, 'lgbm__n_jobs': -1}\n",
    "ml_cfg =  {'n_trails': 100, 'test_size': 0.3, 'n_split_df': 3}"
   ]
  },
  {
   "cell_type": "code",
   "execution_count": 28,
   "id": "cf67c9ff-e27f-458b-b669-dd1a0a69f224",
   "metadata": {
    "execution": {
     "iopub.execute_input": "2023-09-09T20:02:09.502487Z",
     "iopub.status.busy": "2023-09-09T20:02:09.501489Z",
     "iopub.status.idle": "2023-09-09T20:02:09.506014Z",
     "shell.execute_reply": "2023-09-09T20:02:09.506014Z",
     "shell.execute_reply.started": "2023-09-09T20:02:09.502487Z"
    },
    "tags": []
   },
   "outputs": [],
   "source": [
    "df['target'] = df['target'].astype(int)"
   ]
  },
  {
   "cell_type": "code",
   "execution_count": 29,
   "id": "68d192c7-0cf5-4c6e-a031-5a07c3531b55",
   "metadata": {
    "execution": {
     "iopub.execute_input": "2023-09-09T20:02:09.506526Z",
     "iopub.status.busy": "2023-09-09T20:02:09.506526Z",
     "iopub.status.idle": "2023-09-09T20:02:09.509152Z",
     "shell.execute_reply": "2023-09-09T20:02:09.509152Z",
     "shell.execute_reply.started": "2023-09-09T20:02:09.506526Z"
    },
    "tags": []
   },
   "outputs": [],
   "source": [
    "builder = ModelBuilder(cat_cols = category_cols, features_name=features, ml_cfg=ml_cfg, params=default_params)"
   ]
  },
  {
   "cell_type": "code",
   "execution_count": 30,
   "id": "bc9d239c-215c-43b0-97f9-05df93962655",
   "metadata": {
    "collapsed": true,
    "execution": {
     "iopub.execute_input": "2023-09-09T20:02:09.510150Z",
     "iopub.status.busy": "2023-09-09T20:02:09.510150Z",
     "iopub.status.idle": "2023-09-09T20:05:13.069790Z",
     "shell.execute_reply": "2023-09-09T20:05:13.069790Z",
     "shell.execute_reply.started": "2023-09-09T20:02:09.510150Z"
    },
    "jupyter": {
     "outputs_hidden": true
    },
    "tags": []
   },
   "outputs": [
    {
     "name": "stdout",
     "output_type": "stream",
     "text": [
      "start build model...\n",
      "start feature select...\n"
     ]
    },
    {
     "name": "stderr",
     "output_type": "stream",
     "text": [
      "[I 2023-09-10 01:02:22,024] A new study created in memory with name: no-name-1841985a-57a0-4230-bb48-c93d956dbd6c\n"
     ]
    },
    {
     "name": "stdout",
     "output_type": "stream",
     "text": [
      "end feature select...\n",
      "selected 85 out of 342\n",
      "Finished loading model, total used 100 iterations\n",
      "start tuning...\n"
     ]
    },
    {
     "name": "stderr",
     "output_type": "stream",
     "text": [
      "C:\\Users\\Artem\\anaconda3\\Lib\\site-packages\\sklearn\\metrics\\_classification.py:1344: UndefinedMetricWarning: Precision is ill-defined and being set to 0.0 due to no predicted samples. Use `zero_division` parameter to control this behavior.\n",
      "  _warn_prf(average, modifier, msg_start, len(result))\n",
      "[I 2023-09-10 01:02:22,472] Trial 0 finished with value: 0.807090147586757 and parameters: {'num_leaves': 177, 'learning_rate': 0.004480001263134817, 'feature_fraction': 0.3102741342546008, 'bagging_fraction': 0.9701755396059921, 'bagging_freq': 4, 'max_depth': 3, 'min_child_samples': 53, 'min_sum_hessian_in_leaf': 9.07594152588438, 'is_unbalance': True, 'random_state': 42}. Best is trial 0 with value: 0.807090147586757.\n"
     ]
    },
    {
     "name": "stdout",
     "output_type": "stream",
     "text": [
      "ROC AUC: 0.807090147586757; Accuracy: 0.9142590866728798; Precision: 0.0; Recall: 0.0; F1 Score: 0.0; PR AUC: 0.29901968657359324; Log Loss: 0.2813556007874963\n"
     ]
    },
    {
     "name": "stderr",
     "output_type": "stream",
     "text": [
      "[I 2023-09-10 01:02:23,842] Trial 1 finished with value: 0.8710610291184683 and parameters: {'num_leaves': 20, 'learning_rate': 0.0032981314233934797, 'feature_fraction': 0.516724932405449, 'bagging_fraction': 0.7171840706930268, 'bagging_freq': 9, 'max_depth': 8, 'min_child_samples': 42, 'min_sum_hessian_in_leaf': 0.7564660891033004, 'is_unbalance': True, 'random_state': 42}. Best is trial 1 with value: 0.8710610291184683.\n"
     ]
    },
    {
     "name": "stdout",
     "output_type": "stream",
     "text": [
      "ROC AUC: 0.8710610291184683; Accuracy: 0.9030754892823858; Precision: 0.45714285714285713; Recall: 0.6956521739130435; F1 Score: 0.5517241379310345; PR AUC: 0.5670505557245006; Log Loss: 0.24873178833484597\n"
     ]
    },
    {
     "name": "stderr",
     "output_type": "stream",
     "text": [
      "[I 2023-09-10 01:02:24,434] Trial 2 finished with value: 0.8393498205025928 and parameters: {'num_leaves': 108, 'learning_rate': 0.004400321284307427, 'feature_fraction': 0.6844226392131085, 'bagging_fraction': 0.38677162325230263, 'bagging_freq': 5, 'max_depth': 10, 'min_child_samples': 94, 'min_sum_hessian_in_leaf': 5.261949324037611, 'is_unbalance': True, 'random_state': 42}. Best is trial 1 with value: 0.8710610291184683.\n"
     ]
    },
    {
     "name": "stdout",
     "output_type": "stream",
     "text": [
      "ROC AUC: 0.8393498205025928; Accuracy: 0.8769804287045666; Precision: 0.34615384615384615; Recall: 0.4891304347826087; F1 Score: 0.4054054054054054; PR AUC: 0.40266933427067125; Log Loss: 0.2927073529671477\n"
     ]
    },
    {
     "name": "stderr",
     "output_type": "stream",
     "text": [
      "[I 2023-09-10 01:02:25,045] Trial 3 finished with value: 0.8949053760581483 and parameters: {'num_leaves': 207, 'learning_rate': 0.0363080134844106, 'feature_fraction': 0.6711617339684846, 'bagging_fraction': 0.41386597859997676, 'bagging_freq': 5, 'max_depth': 4, 'min_child_samples': 63, 'min_sum_hessian_in_leaf': 1.1647359223234366, 'is_unbalance': True, 'random_state': 42}. Best is trial 3 with value: 0.8949053760581483.\n"
     ]
    },
    {
     "name": "stdout",
     "output_type": "stream",
     "text": [
      "ROC AUC: 0.8949053760581483; Accuracy: 0.9058713886300093; Precision: 0.46616541353383456; Recall: 0.6739130434782609; F1 Score: 0.551111111111111; PR AUC: 0.5672191784927723; Log Loss: 0.2396001660141196\n"
     ]
    },
    {
     "name": "stderr",
     "output_type": "stream",
     "text": [
      "[I 2023-09-10 01:02:25,673] Trial 4 finished with value: 0.8808115055622036 and parameters: {'num_leaves': 187, 'learning_rate': 0.005890415656544541, 'feature_fraction': 0.1066211127819446, 'bagging_fraction': 0.5408781681864472, 'bagging_freq': 5, 'max_depth': 9, 'min_child_samples': 61, 'min_sum_hessian_in_leaf': 8.851349120570172, 'is_unbalance': True, 'random_state': 42}. Best is trial 3 with value: 0.8949053760581483.\n"
     ]
    },
    {
     "name": "stdout",
     "output_type": "stream",
     "text": [
      "ROC AUC: 0.8808115055622036; Accuracy: 0.8974836905871388; Precision: 0.4296875; Recall: 0.5978260869565217; F1 Score: 0.5; PR AUC: 0.5109348814727938; Log Loss: 0.2904358553563991\n"
     ]
    },
    {
     "name": "stderr",
     "output_type": "stream",
     "text": [
      "[I 2023-09-10 01:02:25,982] Trial 5 pruned. Trial was pruned at iteration 1.\n",
      "[I 2023-09-10 01:02:26,290] Trial 6 pruned. Trial was pruned at iteration 1.\n",
      "[I 2023-09-10 01:02:26,603] Trial 7 pruned. Trial was pruned at iteration 0.\n",
      "[I 2023-09-10 01:02:26,916] Trial 8 pruned. Trial was pruned at iteration 0.\n",
      "C:\\Users\\Artem\\anaconda3\\Lib\\site-packages\\sklearn\\metrics\\_classification.py:1344: UndefinedMetricWarning: Precision is ill-defined and being set to 0.0 due to no predicted samples. Use `zero_division` parameter to control this behavior.\n",
      "  _warn_prf(average, modifier, msg_start, len(result))\n",
      "[I 2023-09-10 01:02:27,394] Trial 9 finished with value: 0.8563577538447902 and parameters: {'num_leaves': 205, 'learning_rate': 0.0017088595711975364, 'feature_fraction': 0.13430631417113054, 'bagging_fraction': 0.8751888564052122, 'bagging_freq': 4, 'max_depth': 4, 'min_child_samples': 40, 'min_sum_hessian_in_leaf': 1.577359754824288, 'is_unbalance': True, 'random_state': 42}. Best is trial 3 with value: 0.8949053760581483.\n"
     ]
    },
    {
     "name": "stdout",
     "output_type": "stream",
     "text": [
      "ROC AUC: 0.8563577538447902; Accuracy: 0.9142590866728798; Precision: 0.0; Recall: 0.0; F1 Score: 0.0; PR AUC: 0.4442631956201843; Log Loss: 0.28352876513173775\n"
     ]
    },
    {
     "name": "stderr",
     "output_type": "stream",
     "text": [
      "[I 2023-09-10 01:02:27,736] Trial 10 pruned. Trial was pruned at iteration 0.\n",
      "[I 2023-09-10 01:02:28,140] Trial 11 pruned. Trial was pruned at iteration 73.\n",
      "[I 2023-09-10 01:02:28,486] Trial 12 pruned. Trial was pruned at iteration 0.\n",
      "[I 2023-09-10 01:02:28,831] Trial 13 pruned. Trial was pruned at iteration 0.\n",
      "[I 2023-09-10 01:02:29,172] Trial 14 pruned. Trial was pruned at iteration 1.\n",
      "[I 2023-09-10 01:02:29,528] Trial 15 pruned. Trial was pruned at iteration 4.\n",
      "[I 2023-09-10 01:02:29,873] Trial 16 pruned. Trial was pruned at iteration 1.\n",
      "[I 2023-09-10 01:02:30,220] Trial 17 pruned. Trial was pruned at iteration 0.\n",
      "[I 2023-09-10 01:02:30,563] Trial 18 pruned. Trial was pruned at iteration 0.\n",
      "[I 2023-09-10 01:02:30,905] Trial 19 pruned. Trial was pruned at iteration 0.\n",
      "[I 2023-09-10 01:02:31,309] Trial 20 pruned. Trial was pruned at iteration 64.\n",
      "[I 2023-09-10 01:02:31,658] Trial 21 pruned. Trial was pruned at iteration 0.\n",
      "[I 2023-09-10 01:02:32,000] Trial 22 pruned. Trial was pruned at iteration 0.\n",
      "[I 2023-09-10 01:02:32,339] Trial 23 pruned. Trial was pruned at iteration 0.\n",
      "[I 2023-09-10 01:02:32,731] Trial 24 pruned. Trial was pruned at iteration 43.\n",
      "[I 2023-09-10 01:02:33,119] Trial 25 pruned. Trial was pruned at iteration 57.\n",
      "[I 2023-09-10 01:02:33,465] Trial 26 pruned. Trial was pruned at iteration 0.\n",
      "[I 2023-09-10 01:02:34,640] Trial 27 finished with value: 0.8920023932987635 and parameters: {'num_leaves': 198, 'learning_rate': 0.009029921430981079, 'feature_fraction': 0.10456667603003489, 'bagging_fraction': 0.573001888190209, 'bagging_freq': 9, 'max_depth': 9, 'min_child_samples': 6, 'min_sum_hessian_in_leaf': 3.9492022742404407, 'is_unbalance': True, 'random_state': 42}. Best is trial 3 with value: 0.8949053760581483.\n"
     ]
    },
    {
     "name": "stdout",
     "output_type": "stream",
     "text": [
      "ROC AUC: 0.8920023932987635; Accuracy: 0.9440820130475303; Precision: 0.7105263157894737; Recall: 0.5869565217391305; F1 Score: 0.6428571428571428; PR AUC: 0.6546644957753341; Log Loss: 0.19928019488126472\n"
     ]
    },
    {
     "name": "stderr",
     "output_type": "stream",
     "text": [
      "[I 2023-09-10 01:02:34,983] Trial 28 pruned. Trial was pruned at iteration 0.\n",
      "[I 2023-09-10 01:02:35,330] Trial 29 pruned. Trial was pruned at iteration 0.\n",
      "[I 2023-09-10 01:02:35,675] Trial 30 pruned. Trial was pruned at iteration 0.\n",
      "[I 2023-09-10 01:02:36,196] Trial 31 pruned. Trial was pruned at iteration 79.\n",
      "[I 2023-09-10 01:02:36,682] Trial 32 pruned. Trial was pruned at iteration 122.\n",
      "[I 2023-09-10 01:02:37,024] Trial 33 pruned. Trial was pruned at iteration 3.\n",
      "[I 2023-09-10 01:02:37,359] Trial 34 pruned. Trial was pruned at iteration 0.\n",
      "[I 2023-09-10 01:02:37,695] Trial 35 pruned. Trial was pruned at iteration 0.\n",
      "[I 2023-09-10 01:02:38,661] Trial 36 finished with value: 0.9087887249036032 and parameters: {'num_leaves': 28, 'learning_rate': 0.0553483565856453, 'feature_fraction': 0.27584668570275706, 'bagging_fraction': 0.6280596056594672, 'bagging_freq': 4, 'max_depth': 10, 'min_child_samples': 77, 'min_sum_hessian_in_leaf': 4.8898464267943, 'is_unbalance': True, 'random_state': 42}. Best is trial 36 with value: 0.9087887249036032.\n"
     ]
    },
    {
     "name": "stdout",
     "output_type": "stream",
     "text": [
      "ROC AUC: 0.9087887249036032; Accuracy: 0.9459459459459459; Precision: 0.6808510638297872; Recall: 0.6956521739130435; F1 Score: 0.6881720430107526; PR AUC: 0.6834178007908217; Log Loss: 0.23475202594594063\n"
     ]
    },
    {
     "name": "stderr",
     "output_type": "stream",
     "text": [
      "[I 2023-09-10 01:02:38,994] Trial 37 pruned. Trial was pruned at iteration 1.\n",
      "[I 2023-09-10 01:02:39,329] Trial 38 pruned. Trial was pruned at iteration 0.\n",
      "[I 2023-09-10 01:02:39,669] Trial 39 pruned. Trial was pruned at iteration 0.\n",
      "[I 2023-09-10 01:02:40,359] Trial 40 finished with value: 0.8936533262420776 and parameters: {'num_leaves': 215, 'learning_rate': 0.03027208805184591, 'feature_fraction': 0.1421890925944396, 'bagging_fraction': 0.9991370618127189, 'bagging_freq': 3, 'max_depth': 11, 'min_child_samples': 88, 'min_sum_hessian_in_leaf': 5.118408736437082, 'is_unbalance': True, 'random_state': 42}. Best is trial 36 with value: 0.9087887249036032.\n"
     ]
    },
    {
     "name": "stdout",
     "output_type": "stream",
     "text": [
      "ROC AUC: 0.8936533262420776; Accuracy: 0.8956197576887233; Precision: 0.4382716049382716; Recall: 0.7717391304347826; F1 Score: 0.5590551181102362; PR AUC: 0.5804671175300034; Log Loss: 0.2604494193711453\n"
     ]
    },
    {
     "name": "stderr",
     "output_type": "stream",
     "text": [
      "[I 2023-09-10 01:02:41,436] Trial 41 finished with value: 0.8974981163852326 and parameters: {'num_leaves': 206, 'learning_rate': 0.03088058084391281, 'feature_fraction': 0.13632023836330776, 'bagging_fraction': 0.9598472468223164, 'bagging_freq': 3, 'max_depth': 11, 'min_child_samples': 92, 'min_sum_hessian_in_leaf': 5.026309583905153, 'is_unbalance': True, 'random_state': 42}. Best is trial 36 with value: 0.9087887249036032.\n"
     ]
    },
    {
     "name": "stdout",
     "output_type": "stream",
     "text": [
      "ROC AUC: 0.8974981163852326; Accuracy: 0.9440820130475303; Precision: 0.6632653061224489; Recall: 0.7065217391304348; F1 Score: 0.6842105263157895; PR AUC: 0.6595263013056347; Log Loss: 0.22959066365242511\n"
     ]
    },
    {
     "name": "stderr",
     "output_type": "stream",
     "text": [
      "[I 2023-09-10 01:02:42,119] Trial 42 pruned. Trial was pruned at iteration 426.\n",
      "[I 2023-09-10 01:02:43,102] Trial 43 finished with value: 0.9017750299162346 and parameters: {'num_leaves': 208, 'learning_rate': 0.04815142972618713, 'feature_fraction': 0.19577900659473385, 'bagging_fraction': 0.9354481418834566, 'bagging_freq': 3, 'max_depth': 12, 'min_child_samples': 90, 'min_sum_hessian_in_leaf': 3.8280646934799685, 'is_unbalance': True, 'random_state': 42}. Best is trial 36 with value: 0.9087887249036032.\n"
     ]
    },
    {
     "name": "stdout",
     "output_type": "stream",
     "text": [
      "ROC AUC: 0.9017750299162346; Accuracy: 0.9496738117427772; Precision: 0.7021276595744681; Recall: 0.717391304347826; F1 Score: 0.7096774193548387; PR AUC: 0.6740928212486414; Log Loss: 0.24194440801435158\n"
     ]
    },
    {
     "name": "stderr",
     "output_type": "stream",
     "text": [
      "[I 2023-09-10 01:02:43,441] Trial 44 pruned. Trial was pruned at iteration 0.\n",
      "[I 2023-09-10 01:02:43,835] Trial 45 pruned. Trial was pruned at iteration 56.\n",
      "[I 2023-09-10 01:02:44,274] Trial 46 pruned. Trial was pruned at iteration 122.\n",
      "[I 2023-09-10 01:02:45,083] Trial 47 finished with value: 0.9025063156495144 and parameters: {'num_leaves': 182, 'learning_rate': 0.07308754982244522, 'feature_fraction': 0.22474849693205845, 'bagging_fraction': 0.9221960016447202, 'bagging_freq': 2, 'max_depth': 11, 'min_child_samples': 100, 'min_sum_hessian_in_leaf': 5.3520662028157515, 'is_unbalance': True, 'random_state': 42}. Best is trial 36 with value: 0.9087887249036032.\n"
     ]
    },
    {
     "name": "stdout",
     "output_type": "stream",
     "text": [
      "ROC AUC: 0.9025063156495144; Accuracy: 0.9487418452935694; Precision: 0.6907216494845361; Recall: 0.7282608695652174; F1 Score: 0.7089947089947088; PR AUC: 0.6761833246229985; Log Loss: 0.23926053925359997\n"
     ]
    },
    {
     "name": "stderr",
     "output_type": "stream",
     "text": [
      "[I 2023-09-10 01:02:45,875] Trial 48 finished with value: 0.8997473740194124 and parameters: {'num_leaves': 181, 'learning_rate': 0.08762631903544373, 'feature_fraction': 0.2147636361931752, 'bagging_fraction': 0.9010749375865479, 'bagging_freq': 1, 'max_depth': 12, 'min_child_samples': 92, 'min_sum_hessian_in_leaf': 3.2582455975361198, 'is_unbalance': True, 'random_state': 42}. Best is trial 36 with value: 0.9087887249036032.\n"
     ]
    },
    {
     "name": "stdout",
     "output_type": "stream",
     "text": [
      "ROC AUC: 0.8997473740194124; Accuracy: 0.9478098788443616; Precision: 0.6956521739130435; Recall: 0.6956521739130435; F1 Score: 0.6956521739130435; PR AUC: 0.6771246013651272; Log Loss: 0.25512163603479343\n"
     ]
    },
    {
     "name": "stderr",
     "output_type": "stream",
     "text": [
      "[I 2023-09-10 01:02:46,336] Trial 49 pruned. Trial was pruned at iteration 154.\n",
      "[I 2023-09-10 01:02:47,315] Trial 50 finished with value: 0.9044010105039223 and parameters: {'num_leaves': 156, 'learning_rate': 0.07535168176327205, 'feature_fraction': 0.26011581559040836, 'bagging_fraction': 0.8663250807922178, 'bagging_freq': 2, 'max_depth': 12, 'min_child_samples': 99, 'min_sum_hessian_in_leaf': 4.660428508036362, 'is_unbalance': True, 'random_state': 42}. Best is trial 36 with value: 0.9087887249036032.\n"
     ]
    },
    {
     "name": "stdout",
     "output_type": "stream",
     "text": [
      "ROC AUC: 0.9044010105039223; Accuracy: 0.9468779123951537; Precision: 0.6923076923076923; Recall: 0.6847826086956522; F1 Score: 0.6885245901639345; PR AUC: 0.6929397149050857; Log Loss: 0.2875529463259709\n"
     ]
    },
    {
     "name": "stderr",
     "output_type": "stream",
     "text": [
      "[I 2023-09-10 01:02:48,213] Trial 51 finished with value: 0.9035146035544918 and parameters: {'num_leaves': 186, 'learning_rate': 0.07807106643001904, 'feature_fraction': 0.24119940240944382, 'bagging_fraction': 0.8707902457761517, 'bagging_freq': 2, 'max_depth': 12, 'min_child_samples': 100, 'min_sum_hessian_in_leaf': 4.745353210431722, 'is_unbalance': True, 'random_state': 42}. Best is trial 36 with value: 0.9087887249036032.\n"
     ]
    },
    {
     "name": "stdout",
     "output_type": "stream",
     "text": [
      "ROC AUC: 0.9035146035544918; Accuracy: 0.9468779123951537; Precision: 0.6923076923076923; Recall: 0.6847826086956522; F1 Score: 0.6885245901639345; PR AUC: 0.67390781902175; Log Loss: 0.27598772080020706\n"
     ]
    },
    {
     "name": "stderr",
     "output_type": "stream",
     "text": [
      "[I 2023-09-10 01:02:48,572] Trial 52 pruned. Trial was pruned at iteration 18.\n",
      "[I 2023-09-10 01:02:48,919] Trial 53 pruned. Trial was pruned at iteration 0.\n",
      "[I 2023-09-10 01:02:49,272] Trial 54 pruned. Trial was pruned at iteration 12.\n",
      "[I 2023-09-10 01:02:49,612] Trial 55 pruned. Trial was pruned at iteration 0.\n",
      "[I 2023-09-10 01:02:49,963] Trial 56 pruned. Trial was pruned at iteration 12.\n",
      "[I 2023-09-10 01:02:50,878] Trial 57 finished with value: 0.9070713114390817 and parameters: {'num_leaves': 172, 'learning_rate': 0.09897101284869199, 'feature_fraction': 0.33074089652815136, 'bagging_fraction': 0.9163738014435971, 'bagging_freq': 1, 'max_depth': 11, 'min_child_samples': 88, 'min_sum_hessian_in_leaf': 3.2161284200060063, 'is_unbalance': True, 'random_state': 42}. Best is trial 36 with value: 0.9087887249036032.\n"
     ]
    },
    {
     "name": "stdout",
     "output_type": "stream",
     "text": [
      "ROC AUC: 0.9070713114390817; Accuracy: 0.9450139794967382; Precision: 0.6774193548387096; Recall: 0.6847826086956522; F1 Score: 0.6810810810810811; PR AUC: 0.7072867373970808; Log Loss: 0.28095588783510894\n"
     ]
    },
    {
     "name": "stderr",
     "output_type": "stream",
     "text": [
      "[I 2023-09-10 01:02:51,261] Trial 58 pruned. Trial was pruned at iteration 35.\n",
      "[I 2023-09-10 01:02:52,029] Trial 59 finished with value: 0.90629570535833 and parameters: {'num_leaves': 153, 'learning_rate': 0.09998541378306137, 'feature_fraction': 0.3155769611389112, 'bagging_fraction': 0.8217383912051996, 'bagging_freq': 2, 'max_depth': 10, 'min_child_samples': 84, 'min_sum_hessian_in_leaf': 4.743909516054399, 'is_unbalance': True, 'random_state': 42}. Best is trial 36 with value: 0.9087887249036032.\n"
     ]
    },
    {
     "name": "stdout",
     "output_type": "stream",
     "text": [
      "ROC AUC: 0.90629570535833; Accuracy: 0.9468779123951537; Precision: 0.6881720430107527; Recall: 0.6956521739130435; F1 Score: 0.6918918918918919; PR AUC: 0.6748001145610655; Log Loss: 0.2402340329675744\n"
     ]
    },
    {
     "name": "stderr",
     "output_type": "stream",
     "text": [
      "[I 2023-09-10 01:02:52,377] Trial 60 pruned. Trial was pruned at iteration 1.\n",
      "[I 2023-09-10 01:02:52,717] Trial 61 pruned. Trial was pruned at iteration 0.\n",
      "[I 2023-09-10 01:02:53,058] Trial 62 pruned. Trial was pruned at iteration 0.\n",
      "[I 2023-09-10 01:02:53,401] Trial 63 pruned. Trial was pruned at iteration 1.\n",
      "[I 2023-09-10 01:02:53,755] Trial 64 pruned. Trial was pruned at iteration 15.\n",
      "[I 2023-09-10 01:02:54,095] Trial 65 pruned. Trial was pruned at iteration 0.\n",
      "[I 2023-09-10 01:02:54,435] Trial 66 pruned. Trial was pruned at iteration 0.\n",
      "[I 2023-09-10 01:02:54,774] Trial 67 pruned. Trial was pruned at iteration 0.\n",
      "[I 2023-09-10 01:02:55,115] Trial 68 pruned. Trial was pruned at iteration 1.\n",
      "[I 2023-09-10 01:02:55,468] Trial 69 pruned. Trial was pruned at iteration 14.\n",
      "[I 2023-09-10 01:02:55,823] Trial 70 pruned. Trial was pruned at iteration 15.\n",
      "[I 2023-09-10 01:02:56,530] Trial 71 finished with value: 0.9011767052253691 and parameters: {'num_leaves': 183, 'learning_rate': 0.08831778531445302, 'feature_fraction': 0.21099505111074715, 'bagging_fraction': 0.889027077721242, 'bagging_freq': 1, 'max_depth': 12, 'min_child_samples': 89, 'min_sum_hessian_in_leaf': 3.8479364404030365, 'is_unbalance': True, 'random_state': 42}. Best is trial 36 with value: 0.9087887249036032.\n"
     ]
    },
    {
     "name": "stdout",
     "output_type": "stream",
     "text": [
      "ROC AUC: 0.9011767052253691; Accuracy: 0.9468779123951537; Precision: 0.6804123711340206; Recall: 0.717391304347826; F1 Score: 0.6984126984126985; PR AUC: 0.6581709695351687; Log Loss: 0.22765050447155166\n"
     ]
    },
    {
     "name": "stderr",
     "output_type": "stream",
     "text": [
      "[I 2023-09-10 01:02:56,887] Trial 72 pruned. Trial was pruned at iteration 26.\n",
      "[I 2023-09-10 01:02:57,230] Trial 73 pruned. Trial was pruned at iteration 0.\n",
      "[I 2023-09-10 01:02:57,571] Trial 74 pruned. Trial was pruned at iteration 0.\n",
      "[I 2023-09-10 01:02:58,491] Trial 75 finished with value: 0.9033594823383415 and parameters: {'num_leaves': 173, 'learning_rate': 0.06371093951907654, 'feature_fraction': 0.16225437754069533, 'bagging_fraction': 0.8678304256133172, 'bagging_freq': 1, 'max_depth': 12, 'min_child_samples': 87, 'min_sum_hessian_in_leaf': 3.636198238679735, 'is_unbalance': True, 'random_state': 42}. Best is trial 36 with value: 0.9087887249036032.\n"
     ]
    },
    {
     "name": "stdout",
     "output_type": "stream",
     "text": [
      "ROC AUC: 0.9033594823383415; Accuracy: 0.9515377446411929; Precision: 0.717391304347826; Recall: 0.717391304347826; F1 Score: 0.717391304347826; PR AUC: 0.6800341295400321; Log Loss: 0.25342459759629454\n"
     ]
    },
    {
     "name": "stderr",
     "output_type": "stream",
     "text": [
      "[I 2023-09-10 01:02:58,855] Trial 76 pruned. Trial was pruned at iteration 32.\n",
      "[I 2023-09-10 01:02:59,196] Trial 77 pruned. Trial was pruned at iteration 0.\n",
      "[I 2023-09-10 01:02:59,633] Trial 78 pruned. Trial was pruned at iteration 126.\n",
      "[I 2023-09-10 01:02:59,978] Trial 79 pruned. Trial was pruned at iteration 2.\n",
      "[I 2023-09-10 01:03:00,323] Trial 80 pruned. Trial was pruned at iteration 0.\n",
      "[I 2023-09-10 01:03:01,092] Trial 81 finished with value: 0.9011656251385012 and parameters: {'num_leaves': 191, 'learning_rate': 0.09078140260118775, 'feature_fraction': 0.21797470822514442, 'bagging_fraction': 0.8844746863807047, 'bagging_freq': 1, 'max_depth': 12, 'min_child_samples': 89, 'min_sum_hessian_in_leaf': 3.625290706308305, 'is_unbalance': True, 'random_state': 42}. Best is trial 36 with value: 0.9087887249036032.\n"
     ]
    },
    {
     "name": "stdout",
     "output_type": "stream",
     "text": [
      "ROC AUC: 0.9011656251385012; Accuracy: 0.9487418452935694; Precision: 0.6947368421052632; Recall: 0.717391304347826; F1 Score: 0.7058823529411765; PR AUC: 0.673200103358496; Log Loss: 0.24856462137020688\n"
     ]
    },
    {
     "name": "stderr",
     "output_type": "stream",
     "text": [
      "[I 2023-09-10 01:03:01,430] Trial 82 pruned. Trial was pruned at iteration 0.\n",
      "[I 2023-09-10 01:03:01,779] Trial 83 pruned. Trial was pruned at iteration 5.\n",
      "[I 2023-09-10 01:03:02,515] Trial 84 finished with value: 0.9003456987102778 and parameters: {'num_leaves': 185, 'learning_rate': 0.098949785275646, 'feature_fraction': 0.20265743456775842, 'bagging_fraction': 0.9782269474468119, 'bagging_freq': 2, 'max_depth': 12, 'min_child_samples': 86, 'min_sum_hessian_in_leaf': 3.943544862460466, 'is_unbalance': True, 'random_state': 42}. Best is trial 36 with value: 0.9087887249036032.\n"
     ]
    },
    {
     "name": "stdout",
     "output_type": "stream",
     "text": [
      "ROC AUC: 0.9003456987102778; Accuracy: 0.9478098788443616; Precision: 0.6875; Recall: 0.717391304347826; F1 Score: 0.702127659574468; PR AUC: 0.6879674858976628; Log Loss: 0.24756249556966092\n"
     ]
    },
    {
     "name": "stderr",
     "output_type": "stream",
     "text": [
      "[I 2023-09-10 01:03:02,853] Trial 85 pruned. Trial was pruned at iteration 0.\n",
      "[I 2023-09-10 01:03:03,199] Trial 86 pruned. Trial was pruned at iteration 2.\n",
      "[I 2023-09-10 01:03:03,548] Trial 87 pruned. Trial was pruned at iteration 1.\n",
      "[I 2023-09-10 01:03:03,894] Trial 88 pruned. Trial was pruned at iteration 0.\n",
      "[I 2023-09-10 01:03:04,238] Trial 89 pruned. Trial was pruned at iteration 0.\n",
      "[I 2023-09-10 01:03:04,592] Trial 90 pruned. Trial was pruned at iteration 0.\n",
      "[I 2023-09-10 01:03:04,945] Trial 91 pruned. Trial was pruned at iteration 11.\n",
      "[I 2023-09-10 01:03:05,292] Trial 92 pruned. Trial was pruned at iteration 0.\n",
      "[I 2023-09-10 01:03:05,637] Trial 93 pruned. Trial was pruned at iteration 0.\n",
      "[I 2023-09-10 01:03:05,982] Trial 94 pruned. Trial was pruned at iteration 0.\n",
      "[I 2023-09-10 01:03:06,330] Trial 95 pruned. Trial was pruned at iteration 0.\n",
      "[I 2023-09-10 01:03:06,679] Trial 96 pruned. Trial was pruned at iteration 0.\n",
      "[I 2023-09-10 01:03:07,102] Trial 97 pruned. Trial was pruned at iteration 88.\n",
      "[I 2023-09-10 01:03:07,457] Trial 98 pruned. Trial was pruned at iteration 0.\n",
      "[I 2023-09-10 01:03:07,807] Trial 99 pruned. Trial was pruned at iteration 0.\n"
     ]
    },
    {
     "name": "stdout",
     "output_type": "stream",
     "text": [
      "end tuning...\n",
      "best params: {'lgbm__num_leaves': 28, 'lgbm__learning_rate': 0.0553483565856453, 'lgbm__feature_fraction': 0.27584668570275706, 'lgbm__bagging_fraction': 0.6280596056594672, 'lgbm__bagging_freq': 4, 'lgbm__max_depth': 10, 'lgbm__min_child_samples': 77, 'lgbm__min_sum_hessian_in_leaf': 4.8898464267943, 'lgbm__is_unbalance': True, 'lgbm__random_state': 42}\n",
      "best score: 0.9087887249036032\n",
      "roc_auc on validate data = 0.8299760670123654\n",
      "start feature select...\n"
     ]
    },
    {
     "name": "stderr",
     "output_type": "stream",
     "text": [
      "[I 2023-09-10 01:03:20,129] A new study created in memory with name: no-name-2e110e52-1a33-4977-ab37-752ea314c5e0\n"
     ]
    },
    {
     "name": "stdout",
     "output_type": "stream",
     "text": [
      "end feature select...\n",
      "selected 94 out of 342\n",
      "Finished loading model, total used 100 iterations\n",
      "start tuning...\n"
     ]
    },
    {
     "name": "stderr",
     "output_type": "stream",
     "text": [
      "[I 2023-09-10 01:03:21,238] Trial 0 finished with value: 0.8777423214998006 and parameters: {'num_leaves': 163, 'learning_rate': 0.022668936702247313, 'feature_fraction': 0.3888024660145337, 'bagging_fraction': 0.18078733949222492, 'bagging_freq': 1, 'max_depth': 7, 'min_child_samples': 4, 'min_sum_hessian_in_leaf': 6.723744581602345, 'is_unbalance': True, 'random_state': 42}. Best is trial 0 with value: 0.8777423214998006.\n"
     ]
    },
    {
     "name": "stdout",
     "output_type": "stream",
     "text": [
      "ROC AUC: 0.8777423214998006; Accuracy: 0.9338303821062441; Precision: 0.6521739130434783; Recall: 0.4891304347826087; F1 Score: 0.5590062111801243; PR AUC: 0.5447398091948162; Log Loss: 0.2272352399829318\n"
     ]
    },
    {
     "name": "stderr",
     "output_type": "stream",
     "text": [
      "[I 2023-09-10 01:03:21,892] Trial 1 finished with value: 0.8534104507379338 and parameters: {'num_leaves': 217, 'learning_rate': 0.004960191404585977, 'feature_fraction': 0.3241422585932826, 'bagging_fraction': 0.7180450112233655, 'bagging_freq': 8, 'max_depth': 7, 'min_child_samples': 24, 'min_sum_hessian_in_leaf': 2.6349872288750085, 'is_unbalance': True, 'random_state': 42}. Best is trial 0 with value: 0.8777423214998006.\n"
     ]
    },
    {
     "name": "stdout",
     "output_type": "stream",
     "text": [
      "ROC AUC: 0.8534104507379338; Accuracy: 0.9161230195712954; Precision: 1.0; Recall: 0.021739130434782608; F1 Score: 0.042553191489361694; PR AUC: 0.4828759117841636; Log Loss: 0.2463170359545602\n"
     ]
    },
    {
     "name": "stderr",
     "output_type": "stream",
     "text": [
      "[I 2023-09-10 01:03:22,546] Trial 2 finished with value: 0.881708992598502 and parameters: {'num_leaves': 175, 'learning_rate': 0.07466847275419876, 'feature_fraction': 0.3026301106086306, 'bagging_fraction': 0.464610270581043, 'bagging_freq': 1, 'max_depth': 9, 'min_child_samples': 74, 'min_sum_hessian_in_leaf': 7.503144853615815, 'is_unbalance': True, 'random_state': 42}. Best is trial 2 with value: 0.881708992598502.\n"
     ]
    },
    {
     "name": "stdout",
     "output_type": "stream",
     "text": [
      "ROC AUC: 0.881708992598502; Accuracy: 0.9179869524697111; Precision: 0.5166666666666667; Recall: 0.6739130434782609; F1 Score: 0.5849056603773585; PR AUC: 0.603782181348815; Log Loss: 0.2675248313378824\n"
     ]
    },
    {
     "name": "stderr",
     "output_type": "stream",
     "text": [
      "[I 2023-09-10 01:03:23,520] Trial 3 finished with value: 0.8881797633293446 and parameters: {'num_leaves': 133, 'learning_rate': 0.06396847997688691, 'feature_fraction': 0.47678883928903515, 'bagging_fraction': 0.8031032593749604, 'bagging_freq': 3, 'max_depth': 9, 'min_child_samples': 94, 'min_sum_hessian_in_leaf': 2.4439294434613066, 'is_unbalance': True, 'random_state': 42}. Best is trial 3 with value: 0.8881797633293446.\n"
     ]
    },
    {
     "name": "stdout",
     "output_type": "stream",
     "text": [
      "ROC AUC: 0.8881797633293446; Accuracy: 0.9394221808014911; Precision: 0.6421052631578947; Recall: 0.6630434782608695; F1 Score: 0.6524064171122995; PR AUC: 0.6642630323000944; Log Loss: 0.3166579745564137\n"
     ]
    },
    {
     "name": "stderr",
     "output_type": "stream",
     "text": [
      "C:\\Users\\Artem\\anaconda3\\Lib\\site-packages\\sklearn\\metrics\\_classification.py:1344: UndefinedMetricWarning: Precision is ill-defined and being set to 0.0 due to no predicted samples. Use `zero_division` parameter to control this behavior.\n",
      "  _warn_prf(average, modifier, msg_start, len(result))\n",
      "[I 2023-09-10 01:03:24,075] Trial 4 finished with value: 0.8485684527766698 and parameters: {'num_leaves': 26, 'learning_rate': 0.003801148017432898, 'feature_fraction': 0.7111008340132895, 'bagging_fraction': 0.9729612686774398, 'bagging_freq': 8, 'max_depth': 9, 'min_child_samples': 80, 'min_sum_hessian_in_leaf': 6.5321621338960645, 'is_unbalance': True, 'random_state': 42}. Best is trial 3 with value: 0.8881797633293446.\n"
     ]
    },
    {
     "name": "stdout",
     "output_type": "stream",
     "text": [
      "ROC AUC: 0.8485684527766698; Accuracy: 0.9142590866728798; Precision: 0.0; Recall: 0.0; F1 Score: 0.0; PR AUC: 0.321137347857257; Log Loss: 0.28711995609610197\n"
     ]
    },
    {
     "name": "stderr",
     "output_type": "stream",
     "text": [
      "[I 2023-09-10 01:03:24,410] Trial 5 pruned. Trial was pruned at iteration 0.\n",
      "[I 2023-09-10 01:03:24,738] Trial 6 pruned. Trial was pruned at iteration 0.\n",
      "[I 2023-09-10 01:03:25,060] Trial 7 pruned. Trial was pruned at iteration 0.\n",
      "[I 2023-09-10 01:03:25,385] Trial 8 pruned. Trial was pruned at iteration 0.\n",
      "[I 2023-09-10 01:03:25,712] Trial 9 pruned. Trial was pruned at iteration 0.\n",
      "C:\\Users\\Artem\\anaconda3\\Lib\\site-packages\\sklearn\\metrics\\_classification.py:1344: UndefinedMetricWarning: Precision is ill-defined and being set to 0.0 due to no predicted samples. Use `zero_division` parameter to control this behavior.\n",
      "  _warn_prf(average, modifier, msg_start, len(result))\n",
      "[I 2023-09-10 01:03:26,290] Trial 10 finished with value: 0.87685591455037 and parameters: {'num_leaves': 255, 'learning_rate': 0.0016266001281591608, 'feature_fraction': 0.1631094403538771, 'bagging_fraction': 0.6640673980737888, 'bagging_freq': 4, 'max_depth': 12, 'min_child_samples': 44, 'min_sum_hessian_in_leaf': 3.923454069614818, 'is_unbalance': True, 'random_state': 42}. Best is trial 3 with value: 0.8881797633293446.\n"
     ]
    },
    {
     "name": "stdout",
     "output_type": "stream",
     "text": [
      "ROC AUC: 0.87685591455037; Accuracy: 0.9142590866728798; Precision: 0.0; Recall: 0.0; F1 Score: 0.0; PR AUC: 0.45763509292524573; Log Loss: 0.278255985568038\n"
     ]
    },
    {
     "name": "stderr",
     "output_type": "stream",
     "text": [
      "[I 2023-09-10 01:03:26,639] Trial 11 pruned. Trial was pruned at iteration 0.\n",
      "[I 2023-09-10 01:03:28,007] Trial 12 finished with value: 0.8938084474582281 and parameters: {'num_leaves': 92, 'learning_rate': 0.0975741467476048, 'feature_fraction': 0.5879753020209024, 'bagging_fraction': 0.8617818100345407, 'bagging_freq': 4, 'max_depth': 11, 'min_child_samples': 65, 'min_sum_hessian_in_leaf': 9.746167444244099, 'is_unbalance': True, 'random_state': 42}. Best is trial 12 with value: 0.8938084474582281.\n"
     ]
    },
    {
     "name": "stdout",
     "output_type": "stream",
     "text": [
      "ROC AUC: 0.8938084474582281; Accuracy: 0.9496738117427772; Precision: 0.7261904761904762; Recall: 0.6630434782608695; F1 Score: 0.6931818181818181; PR AUC: 0.6923185130256027; Log Loss: 0.5024191151194995\n"
     ]
    },
    {
     "name": "stderr",
     "output_type": "stream",
     "text": [
      "[I 2023-09-10 01:03:28,364] Trial 13 pruned. Trial was pruned at iteration 1.\n",
      "[I 2023-09-10 01:03:28,718] Trial 14 pruned. Trial was pruned at iteration 0.\n",
      "[I 2023-09-10 01:03:29,073] Trial 15 pruned. Trial was pruned at iteration 0.\n",
      "[I 2023-09-10 01:03:29,453] Trial 16 pruned. Trial was pruned at iteration 20.\n",
      "[I 2023-09-10 01:03:29,808] Trial 17 pruned. Trial was pruned at iteration 1.\n",
      "[I 2023-09-10 01:03:30,171] Trial 18 pruned. Trial was pruned at iteration 0.\n",
      "[I 2023-09-10 01:03:30,527] Trial 19 pruned. Trial was pruned at iteration 0.\n",
      "[I 2023-09-10 01:03:30,881] Trial 20 pruned. Trial was pruned at iteration 0.\n",
      "[I 2023-09-10 01:03:31,241] Trial 21 pruned. Trial was pruned at iteration 0.\n",
      "[I 2023-09-10 01:03:31,604] Trial 22 pruned. Trial was pruned at iteration 2.\n",
      "[I 2023-09-10 01:03:31,967] Trial 23 pruned. Trial was pruned at iteration 0.\n",
      "[I 2023-09-10 01:03:32,330] Trial 24 pruned. Trial was pruned at iteration 1.\n",
      "[I 2023-09-10 01:03:32,691] Trial 25 pruned. Trial was pruned at iteration 0.\n",
      "[I 2023-09-10 01:03:33,049] Trial 26 pruned. Trial was pruned at iteration 0.\n",
      "[I 2023-09-10 01:03:33,407] Trial 27 pruned. Trial was pruned at iteration 0.\n",
      "[I 2023-09-10 01:03:33,861] Trial 28 pruned. Trial was pruned at iteration 79.\n",
      "[I 2023-09-10 01:03:34,221] Trial 29 pruned. Trial was pruned at iteration 0.\n",
      "[I 2023-09-10 01:03:34,794] Trial 30 finished with value: 0.8746343571333599 and parameters: {'num_leaves': 84, 'learning_rate': 0.0749224452812874, 'feature_fraction': 0.2055547840794203, 'bagging_fraction': 0.8542328950545829, 'bagging_freq': 2, 'max_depth': 10, 'min_child_samples': 79, 'min_sum_hessian_in_leaf': 7.645544939381274, 'is_unbalance': True, 'random_state': 42}. Best is trial 12 with value: 0.8938084474582281.\n"
     ]
    },
    {
     "name": "stdout",
     "output_type": "stream",
     "text": [
      "ROC AUC: 0.8746343571333599; Accuracy: 0.8909599254426841; Precision: 0.42424242424242425; Recall: 0.7608695652173914; F1 Score: 0.5447470817120622; PR AUC: 0.5170902773726646; Log Loss: 0.28391867916111896\n"
     ]
    },
    {
     "name": "stderr",
     "output_type": "stream",
     "text": [
      "[I 2023-09-10 01:03:35,156] Trial 31 pruned. Trial was pruned at iteration 0.\n",
      "[I 2023-09-10 01:03:35,515] Trial 32 pruned. Trial was pruned at iteration 0.\n",
      "[I 2023-09-10 01:03:35,879] Trial 33 pruned. Trial was pruned at iteration 0.\n",
      "[I 2023-09-10 01:03:36,239] Trial 34 pruned. Trial was pruned at iteration 0.\n",
      "[I 2023-09-10 01:03:36,604] Trial 35 pruned. Trial was pruned at iteration 0.\n",
      "[I 2023-09-10 01:03:36,965] Trial 36 pruned. Trial was pruned at iteration 0.\n",
      "[I 2023-09-10 01:03:37,325] Trial 37 pruned. Trial was pruned at iteration 0.\n",
      "[I 2023-09-10 01:03:37,687] Trial 38 pruned. Trial was pruned at iteration 0.\n",
      "[I 2023-09-10 01:03:38,049] Trial 39 pruned. Trial was pruned at iteration 0.\n",
      "[I 2023-09-10 01:03:38,413] Trial 40 pruned. Trial was pruned at iteration 0.\n",
      "[I 2023-09-10 01:03:38,983] Trial 41 pruned. Trial was pruned at iteration 162.\n",
      "[I 2023-09-10 01:03:39,354] Trial 42 pruned. Trial was pruned at iteration 0.\n",
      "[I 2023-09-10 01:03:39,731] Trial 43 pruned. Trial was pruned at iteration 0.\n",
      "[I 2023-09-10 01:03:40,103] Trial 44 pruned. Trial was pruned at iteration 0.\n",
      "[I 2023-09-10 01:03:40,473] Trial 45 pruned. Trial was pruned at iteration 1.\n",
      "[I 2023-09-10 01:03:40,837] Trial 46 pruned. Trial was pruned at iteration 0.\n",
      "[I 2023-09-10 01:03:41,201] Trial 47 pruned. Trial was pruned at iteration 0.\n",
      "[I 2023-09-10 01:03:41,562] Trial 48 pruned. Trial was pruned at iteration 0.\n",
      "[I 2023-09-10 01:03:41,922] Trial 49 pruned. Trial was pruned at iteration 0.\n",
      "[I 2023-09-10 01:03:42,291] Trial 50 pruned. Trial was pruned at iteration 6.\n",
      "[I 2023-09-10 01:03:42,851] Trial 51 finished with value: 0.875193901520188 and parameters: {'num_leaves': 82, 'learning_rate': 0.07842306575146132, 'feature_fraction': 0.19502880980751996, 'bagging_fraction': 0.8707939052451343, 'bagging_freq': 2, 'max_depth': 10, 'min_child_samples': 80, 'min_sum_hessian_in_leaf': 6.627854800680055, 'is_unbalance': True, 'random_state': 42}. Best is trial 12 with value: 0.8938084474582281.\n"
     ]
    },
    {
     "name": "stdout",
     "output_type": "stream",
     "text": [
      "ROC AUC: 0.875193901520188; Accuracy: 0.875116495806151; Precision: 0.38333333333333336; Recall: 0.75; F1 Score: 0.5073529411764707; PR AUC: 0.4999103909401965; Log Loss: 0.28758515266129614\n"
     ]
    },
    {
     "name": "stderr",
     "output_type": "stream",
     "text": [
      "[I 2023-09-10 01:03:43,406] Trial 52 finished with value: 0.8866507113415768 and parameters: {'num_leaves': 37, 'learning_rate': 0.08597484799861739, 'feature_fraction': 0.11530561371527791, 'bagging_fraction': 0.8674948696287034, 'bagging_freq': 1, 'max_depth': 9, 'min_child_samples': 86, 'min_sum_hessian_in_leaf': 5.724217485529416, 'is_unbalance': True, 'random_state': 42}. Best is trial 12 with value: 0.8938084474582281.\n"
     ]
    },
    {
     "name": "stdout",
     "output_type": "stream",
     "text": [
      "ROC AUC: 0.8866507113415768; Accuracy: 0.8685927306616962; Precision: 0.366120218579235; Recall: 0.7282608695652174; F1 Score: 0.4872727272727273; PR AUC: 0.5213581790908199; Log Loss: 0.29368825904299795\n"
     ]
    },
    {
     "name": "stderr",
     "output_type": "stream",
     "text": [
      "[I 2023-09-10 01:03:43,962] Trial 53 finished with value: 0.8826618800691398 and parameters: {'num_leaves': 35, 'learning_rate': 0.058212687128315406, 'feature_fraction': 0.1429984616214094, 'bagging_fraction': 0.9920765820784617, 'bagging_freq': 1, 'max_depth': 9, 'min_child_samples': 84, 'min_sum_hessian_in_leaf': 5.095229309867349, 'is_unbalance': True, 'random_state': 42}. Best is trial 12 with value: 0.8938084474582281.\n"
     ]
    },
    {
     "name": "stdout",
     "output_type": "stream",
     "text": [
      "ROC AUC: 0.8826618800691398; Accuracy: 0.8872320596458527; Precision: 0.4088050314465409; Recall: 0.7065217391304348; F1 Score: 0.5179282868525897; PR AUC: 0.49970335836631535; Log Loss: 0.2926070752799023\n"
     ]
    },
    {
     "name": "stderr",
     "output_type": "stream",
     "text": [
      "[I 2023-09-10 01:03:44,517] Trial 54 finished with value: 0.8936090058946062 and parameters: {'num_leaves': 32, 'learning_rate': 0.06368636010554084, 'feature_fraction': 0.11093445080861496, 'bagging_fraction': 0.9639178087075685, 'bagging_freq': 1, 'max_depth': 9, 'min_child_samples': 86, 'min_sum_hessian_in_leaf': 5.8785147455802935, 'is_unbalance': True, 'random_state': 42}. Best is trial 12 with value: 0.8938084474582281.\n"
     ]
    },
    {
     "name": "stdout",
     "output_type": "stream",
     "text": [
      "ROC AUC: 0.8936090058946062; Accuracy: 0.869524697110904; Precision: 0.3723404255319149; Recall: 0.7608695652173914; F1 Score: 0.5; PR AUC: 0.5272009999145237; Log Loss: 0.30022121517667794\n"
     ]
    },
    {
     "name": "stderr",
     "output_type": "stream",
     "text": [
      "[I 2023-09-10 01:03:44,878] Trial 55 pruned. Trial was pruned at iteration 0.\n",
      "[I 2023-09-10 01:03:45,501] Trial 56 finished with value: 0.879382174356247 and parameters: {'num_leaves': 44, 'learning_rate': 0.08739138499665448, 'feature_fraction': 0.14997338875410354, 'bagging_fraction': 0.9967049062278759, 'bagging_freq': 1, 'max_depth': 9, 'min_child_samples': 86, 'min_sum_hessian_in_leaf': 5.909191639494556, 'is_unbalance': True, 'random_state': 42}. Best is trial 12 with value: 0.8938084474582281.\n"
     ]
    },
    {
     "name": "stdout",
     "output_type": "stream",
     "text": [
      "ROC AUC: 0.879382174356247; Accuracy: 0.8732525629077353; Precision: 0.37640449438202245; Recall: 0.7282608695652174; F1 Score: 0.4962962962962962; PR AUC: 0.49774808736892634; Log Loss: 0.2944400483461799\n"
     ]
    },
    {
     "name": "stderr",
     "output_type": "stream",
     "text": [
      "[I 2023-09-10 01:03:45,863] Trial 57 pruned. Trial was pruned at iteration 0.\n",
      "[I 2023-09-10 01:03:46,437] Trial 58 finished with value: 0.892512077294686 and parameters: {'num_leaves': 29, 'learning_rate': 0.06606674754011473, 'feature_fraction': 0.1066407021380131, 'bagging_fraction': 0.9446595392555547, 'bagging_freq': 2, 'max_depth': 9, 'min_child_samples': 90, 'min_sum_hessian_in_leaf': 5.68649571839345, 'is_unbalance': True, 'random_state': 42}. Best is trial 12 with value: 0.8938084474582281.\n"
     ]
    },
    {
     "name": "stdout",
     "output_type": "stream",
     "text": [
      "ROC AUC: 0.892512077294686; Accuracy: 0.8825722273998136; Precision: 0.4034090909090909; Recall: 0.7717391304347826; F1 Score: 0.5298507462686567; PR AUC: 0.526660149892896; Log Loss: 0.28462405501124194\n"
     ]
    },
    {
     "name": "stderr",
     "output_type": "stream",
     "text": [
      "[I 2023-09-10 01:03:46,800] Trial 59 pruned. Trial was pruned at iteration 0.\n",
      "[I 2023-09-10 01:03:47,173] Trial 60 pruned. Trial was pruned at iteration 1.\n",
      "[I 2023-09-10 01:03:47,726] Trial 61 finished with value: 0.8822851571156317 and parameters: {'num_leaves': 18, 'learning_rate': 0.06692391466198415, 'feature_fraction': 0.1714723864162752, 'bagging_fraction': 0.9966065144060331, 'bagging_freq': 1, 'max_depth': 9, 'min_child_samples': 73, 'min_sum_hessian_in_leaf': 5.534697771282178, 'is_unbalance': True, 'random_state': 42}. Best is trial 12 with value: 0.8938084474582281.\n"
     ]
    },
    {
     "name": "stdout",
     "output_type": "stream",
     "text": [
      "ROC AUC: 0.8822851571156317; Accuracy: 0.896551724137931; Precision: 0.43448275862068964; Recall: 0.6847826086956522; F1 Score: 0.5316455696202532; PR AUC: 0.5119383445405041; Log Loss: 0.2787258636684483\n"
     ]
    },
    {
     "name": "stderr",
     "output_type": "stream",
     "text": [
      "[I 2023-09-10 01:03:48,086] Trial 62 pruned. Trial was pruned at iteration 0.\n",
      "[I 2023-09-10 01:03:48,458] Trial 63 pruned. Trial was pruned at iteration 0.\n",
      "[I 2023-09-10 01:03:49,017] Trial 64 finished with value: 0.8772492576341799 and parameters: {'num_leaves': 29, 'learning_rate': 0.06456598479952731, 'feature_fraction': 0.20744835132696857, 'bagging_fraction': 0.9554463297411053, 'bagging_freq': 2, 'max_depth': 8, 'min_child_samples': 78, 'min_sum_hessian_in_leaf': 6.28601712848888, 'is_unbalance': True, 'random_state': 42}. Best is trial 12 with value: 0.8938084474582281.\n"
     ]
    },
    {
     "name": "stdout",
     "output_type": "stream",
     "text": [
      "ROC AUC: 0.8772492576341799; Accuracy: 0.875116495806151; Precision: 0.3793103448275862; Recall: 0.717391304347826; F1 Score: 0.49624060150375937; PR AUC: 0.48235459229576594; Log Loss: 0.28628479549128855\n"
     ]
    },
    {
     "name": "stderr",
     "output_type": "stream",
     "text": [
      "[I 2023-09-10 01:03:49,388] Trial 65 pruned. Trial was pruned at iteration 1.\n",
      "[I 2023-09-10 01:03:49,756] Trial 66 pruned. Trial was pruned at iteration 3.\n",
      "[I 2023-09-10 01:03:50,142] Trial 67 pruned. Trial was pruned at iteration 27.\n",
      "[I 2023-09-10 01:03:50,506] Trial 68 pruned. Trial was pruned at iteration 0.\n",
      "[I 2023-09-10 01:03:50,871] Trial 69 pruned. Trial was pruned at iteration 0.\n",
      "[I 2023-09-10 01:03:51,232] Trial 70 pruned. Trial was pruned at iteration 0.\n",
      "[I 2023-09-10 01:03:51,993] Trial 71 finished with value: 0.8849000576164517 and parameters: {'num_leaves': 24, 'learning_rate': 0.09837014679511762, 'feature_fraction': 0.2163378874812545, 'bagging_fraction': 0.9187667659090523, 'bagging_freq': 1, 'max_depth': 9, 'min_child_samples': 75, 'min_sum_hessian_in_leaf': 5.5671252833861296, 'is_unbalance': True, 'random_state': 42}. Best is trial 12 with value: 0.8938084474582281.\n"
     ]
    },
    {
     "name": "stdout",
     "output_type": "stream",
     "text": [
      "ROC AUC: 0.8849000576164517; Accuracy: 0.9366262814538676; Precision: 0.62; Recall: 0.6739130434782609; F1 Score: 0.6458333333333334; PR AUC: 0.6537752594882736; Log Loss: 0.2748399141728172\n"
     ]
    },
    {
     "name": "stderr",
     "output_type": "stream",
     "text": [
      "[I 2023-09-10 01:03:52,356] Trial 72 pruned. Trial was pruned at iteration 0.\n",
      "[I 2023-09-10 01:03:52,719] Trial 73 pruned. Trial was pruned at iteration 0.\n",
      "[I 2023-09-10 01:03:53,083] Trial 74 pruned. Trial was pruned at iteration 1.\n",
      "[I 2023-09-10 01:03:53,481] Trial 75 pruned. Trial was pruned at iteration 30.\n",
      "[I 2023-09-10 01:03:53,847] Trial 76 pruned. Trial was pruned at iteration 0.\n",
      "[I 2023-09-10 01:03:54,209] Trial 77 pruned. Trial was pruned at iteration 0.\n",
      "[I 2023-09-10 01:03:54,584] Trial 78 pruned. Trial was pruned at iteration 1.\n",
      "[I 2023-09-10 01:03:54,958] Trial 79 pruned. Trial was pruned at iteration 0.\n",
      "[I 2023-09-10 01:03:55,334] Trial 80 pruned. Trial was pruned at iteration 0.\n",
      "[I 2023-09-10 01:03:55,943] Trial 81 finished with value: 0.8814763107742765 and parameters: {'num_leaves': 57, 'learning_rate': 0.07279281048702957, 'feature_fraction': 0.20102719938700148, 'bagging_fraction': 0.9773567968352399, 'bagging_freq': 1, 'max_depth': 9, 'min_child_samples': 74, 'min_sum_hessian_in_leaf': 5.698621128136859, 'is_unbalance': True, 'random_state': 42}. Best is trial 12 with value: 0.8938084474582281.\n"
     ]
    },
    {
     "name": "stdout",
     "output_type": "stream",
     "text": [
      "ROC AUC: 0.8814763107742765; Accuracy: 0.875116495806151; Precision: 0.38461538461538464; Recall: 0.7608695652173914; F1 Score: 0.5109489051094891; PR AUC: 0.5142999012560894; Log Loss: 0.2827450935642144\n"
     ]
    },
    {
     "name": "stderr",
     "output_type": "stream",
     "text": [
      "[I 2023-09-10 01:03:56,316] Trial 82 pruned. Trial was pruned at iteration 0.\n",
      "[I 2023-09-10 01:03:56,683] Trial 83 pruned. Trial was pruned at iteration 1.\n",
      "[I 2023-09-10 01:03:57,055] Trial 84 pruned. Trial was pruned at iteration 5.\n",
      "[I 2023-09-10 01:03:57,430] Trial 85 pruned. Trial was pruned at iteration 0.\n",
      "[I 2023-09-10 01:03:57,796] Trial 86 pruned. Trial was pruned at iteration 0.\n",
      "[I 2023-09-10 01:03:58,164] Trial 87 pruned. Trial was pruned at iteration 0.\n",
      "[I 2023-09-10 01:03:58,531] Trial 88 pruned. Trial was pruned at iteration 1.\n",
      "[I 2023-09-10 01:03:58,894] Trial 89 pruned. Trial was pruned at iteration 0.\n",
      "[I 2023-09-10 01:03:59,259] Trial 90 pruned. Trial was pruned at iteration 0.\n",
      "C:\\Users\\Artem\\anaconda3\\Lib\\site-packages\\sklearn\\metrics\\_classification.py:1344: UndefinedMetricWarning: Precision is ill-defined and being set to 0.0 due to no predicted samples. Use `zero_division` parameter to control this behavior.\n",
      "  _warn_prf(average, modifier, msg_start, len(result))\n",
      "[I 2023-09-10 01:03:59,808] Trial 91 finished with value: 0.883476266453929 and parameters: {'num_leaves': 57, 'learning_rate': 0.07129750351739647, 'feature_fraction': 0.20041032935476183, 'bagging_fraction': 0.9765951503882259, 'bagging_freq': 1, 'max_depth': 9, 'min_child_samples': 73, 'min_sum_hessian_in_leaf': 5.772461018005044, 'is_unbalance': True, 'random_state': 42}. Best is trial 12 with value: 0.8938084474582281.\n"
     ]
    },
    {
     "name": "stdout",
     "output_type": "stream",
     "text": [
      "ROC AUC: 0.883476266453929; Accuracy: 0.9142590866728798; Precision: 0.0; Recall: 0.0; F1 Score: 0.0; PR AUC: 0.4434510229097922; Log Loss: 0.25934321767532814\n"
     ]
    },
    {
     "name": "stderr",
     "output_type": "stream",
     "text": [
      "[I 2023-09-10 01:04:00,369] Trial 92 finished with value: 0.8820247750742365 and parameters: {'num_leaves': 33, 'learning_rate': 0.06552780121392467, 'feature_fraction': 0.20023675614010783, 'bagging_fraction': 0.9795519940385566, 'bagging_freq': 1, 'max_depth': 9, 'min_child_samples': 76, 'min_sum_hessian_in_leaf': 5.7438500867551765, 'is_unbalance': True, 'random_state': 42}. Best is trial 12 with value: 0.8938084474582281.\n"
     ]
    },
    {
     "name": "stdout",
     "output_type": "stream",
     "text": [
      "ROC AUC: 0.8820247750742365; Accuracy: 0.907735321528425; Precision: 0.4690265486725664; Recall: 0.5760869565217391; F1 Score: 0.5170731707317073; PR AUC: 0.48830489608854866; Log Loss: 0.27092712650669415\n"
     ]
    },
    {
     "name": "stderr",
     "output_type": "stream",
     "text": [
      "C:\\Users\\Artem\\anaconda3\\Lib\\site-packages\\sklearn\\metrics\\_classification.py:1344: UndefinedMetricWarning: Precision is ill-defined and being set to 0.0 due to no predicted samples. Use `zero_division` parameter to control this behavior.\n",
      "  _warn_prf(average, modifier, msg_start, len(result))\n",
      "[I 2023-09-10 01:04:00,919] Trial 93 finished with value: 0.8842574125781146 and parameters: {'num_leaves': 31, 'learning_rate': 0.06447883269021264, 'feature_fraction': 0.20270624530462789, 'bagging_fraction': 0.9993333610802974, 'bagging_freq': 1, 'max_depth': 9, 'min_child_samples': 76, 'min_sum_hessian_in_leaf': 5.581289321824299, 'is_unbalance': True, 'random_state': 42}. Best is trial 12 with value: 0.8938084474582281.\n"
     ]
    },
    {
     "name": "stdout",
     "output_type": "stream",
     "text": [
      "ROC AUC: 0.8842574125781146; Accuracy: 0.9142590866728798; Precision: 0.0; Recall: 0.0; F1 Score: 0.0; PR AUC: 0.4604522549488985; Log Loss: 0.25968791454204737\n"
     ]
    },
    {
     "name": "stderr",
     "output_type": "stream",
     "text": [
      "[I 2023-09-10 01:04:01,281] Trial 94 pruned. Trial was pruned at iteration 0.\n",
      "[I 2023-09-10 01:04:01,647] Trial 95 pruned. Trial was pruned at iteration 0.\n",
      "[I 2023-09-10 01:04:02,024] Trial 96 pruned. Trial was pruned at iteration 3.\n",
      "[I 2023-09-10 01:04:02,390] Trial 97 pruned. Trial was pruned at iteration 1.\n",
      "[I 2023-09-10 01:04:02,975] Trial 98 finished with value: 0.8851271993972433 and parameters: {'num_leaves': 37, 'learning_rate': 0.09909270835343736, 'feature_fraction': 0.18921614083111662, 'bagging_fraction': 0.9225364312717471, 'bagging_freq': 2, 'max_depth': 10, 'min_child_samples': 64, 'min_sum_hessian_in_leaf': 5.9191463364634505, 'is_unbalance': True, 'random_state': 42}. Best is trial 12 with value: 0.8938084474582281.\n"
     ]
    },
    {
     "name": "stdout",
     "output_type": "stream",
     "text": [
      "ROC AUC: 0.8851271993972433; Accuracy: 0.8956197576887233; Precision: 0.4358974358974359; Recall: 0.7391304347826086; F1 Score: 0.5483870967741935; PR AUC: 0.5585660046976865; Log Loss: 0.25928960445253\n"
     ]
    },
    {
     "name": "stderr",
     "output_type": "stream",
     "text": [
      "[I 2023-09-10 01:04:03,559] Trial 99 finished with value: 0.8917420112573682 and parameters: {'num_leaves': 60, 'learning_rate': 0.09176362026186077, 'feature_fraction': 0.14533273791480594, 'bagging_fraction': 0.9297053019483005, 'bagging_freq': 2, 'max_depth': 11, 'min_child_samples': 55, 'min_sum_hessian_in_leaf': 6.488672124114261, 'is_unbalance': True, 'random_state': 42}. Best is trial 12 with value: 0.8938084474582281.\n"
     ]
    },
    {
     "name": "stdout",
     "output_type": "stream",
     "text": [
      "ROC AUC: 0.8917420112573682; Accuracy: 0.8937558247903076; Precision: 0.4266666666666667; Recall: 0.6956521739130435; F1 Score: 0.5289256198347106; PR AUC: 0.5451418990205136; Log Loss: 0.26149952653769337\n",
      "end tuning...\n",
      "best params: {'lgbm__num_leaves': 92, 'lgbm__learning_rate': 0.0975741467476048, 'lgbm__feature_fraction': 0.5879753020209024, 'lgbm__bagging_fraction': 0.8617818100345407, 'lgbm__bagging_freq': 4, 'lgbm__max_depth': 11, 'lgbm__min_child_samples': 65, 'lgbm__min_sum_hessian_in_leaf': 9.746167444244099, 'lgbm__is_unbalance': True, 'lgbm__random_state': 42}\n",
      "best score: 0.8938084474582281\n",
      "roc_auc on validate data = 0.7547478172228871\n",
      "start feature select...\n"
     ]
    },
    {
     "name": "stderr",
     "output_type": "stream",
     "text": [
      "[I 2023-09-10 01:04:16,310] A new study created in memory with name: no-name-508d16b5-a2e4-494f-8f2a-fc4fe81a970e\n"
     ]
    },
    {
     "name": "stdout",
     "output_type": "stream",
     "text": [
      "end feature select...\n",
      "selected 132 out of 342\n",
      "Finished loading model, total used 100 iterations\n",
      "start tuning...\n"
     ]
    },
    {
     "name": "stderr",
     "output_type": "stream",
     "text": [
      "C:\\Users\\Artem\\anaconda3\\Lib\\site-packages\\sklearn\\metrics\\_classification.py:1344: UndefinedMetricWarning: Precision is ill-defined and being set to 0.0 due to no predicted samples. Use `zero_division` parameter to control this behavior.\n",
      "  _warn_prf(average, modifier, msg_start, len(result))\n",
      "[I 2023-09-10 01:04:16,992] Trial 0 finished with value: 0.869908350305499 and parameters: {'num_leaves': 160, 'learning_rate': 0.002758052438530389, 'feature_fraction': 0.2694299730883139, 'bagging_fraction': 0.782792570848964, 'bagging_freq': 10, 'max_depth': 10, 'min_child_samples': 80, 'min_sum_hessian_in_leaf': 1.8539325225277603, 'is_unbalance': True, 'random_state': 42}. Best is trial 0 with value: 0.869908350305499.\n"
     ]
    },
    {
     "name": "stdout",
     "output_type": "stream",
     "text": [
      "ROC AUC: 0.869908350305499; Accuracy: 0.9143389199255121; Precision: 0.0; Recall: 0.0; F1 Score: 0.0; PR AUC: 0.40229050005869077; Log Loss: 0.27751362169309657\n"
     ]
    },
    {
     "name": "stderr",
     "output_type": "stream",
     "text": [
      "C:\\Users\\Artem\\anaconda3\\Lib\\site-packages\\sklearn\\metrics\\_classification.py:1344: UndefinedMetricWarning: Precision is ill-defined and being set to 0.0 due to no predicted samples. Use `zero_division` parameter to control this behavior.\n",
      "  _warn_prf(average, modifier, msg_start, len(result))\n",
      "[I 2023-09-10 01:04:17,685] Trial 1 finished with value: 0.8120129726379173 and parameters: {'num_leaves': 109, 'learning_rate': 0.0010014981881722115, 'feature_fraction': 0.47259046284818607, 'bagging_fraction': 0.6631192255456909, 'bagging_freq': 9, 'max_depth': 3, 'min_child_samples': 6, 'min_sum_hessian_in_leaf': 7.935636911905123, 'is_unbalance': True, 'random_state': 42}. Best is trial 0 with value: 0.869908350305499.\n"
     ]
    },
    {
     "name": "stdout",
     "output_type": "stream",
     "text": [
      "ROC AUC: 0.8120129726379173; Accuracy: 0.9143389199255121; Precision: 0.0; Recall: 0.0; F1 Score: 0.0; PR AUC: 0.3332197123412172; Log Loss: 0.2734131610447355\n"
     ]
    },
    {
     "name": "stderr",
     "output_type": "stream",
     "text": [
      "[I 2023-09-10 01:04:18,874] Trial 2 finished with value: 0.8782763658903746 and parameters: {'num_leaves': 154, 'learning_rate': 0.020709344161264534, 'feature_fraction': 0.6373578826982531, 'bagging_fraction': 0.87511822342118, 'bagging_freq': 5, 'max_depth': 4, 'min_child_samples': 58, 'min_sum_hessian_in_leaf': 9.658258761730803, 'is_unbalance': True, 'random_state': 42}. Best is trial 2 with value: 0.8782763658903746.\n"
     ]
    },
    {
     "name": "stdout",
     "output_type": "stream",
     "text": [
      "ROC AUC: 0.8782763658903746; Accuracy: 0.9227188081936686; Precision: 0.5371900826446281; Recall: 0.7065217391304348; F1 Score: 0.6103286384976525; PR AUC: 0.6250622328006609; Log Loss: 0.24823746408231495\n"
     ]
    },
    {
     "name": "stderr",
     "output_type": "stream",
     "text": [
      "C:\\Users\\Artem\\anaconda3\\Lib\\site-packages\\sklearn\\metrics\\_classification.py:1344: UndefinedMetricWarning: Precision is ill-defined and being set to 0.0 due to no predicted samples. Use `zero_division` parameter to control this behavior.\n",
      "  _warn_prf(average, modifier, msg_start, len(result))\n",
      "[I 2023-09-10 01:04:19,548] Trial 3 finished with value: 0.8687184539095014 and parameters: {'num_leaves': 73, 'learning_rate': 0.0071751832609288375, 'feature_fraction': 0.20395030379793067, 'bagging_fraction': 0.5760240315442355, 'bagging_freq': 2, 'max_depth': 10, 'min_child_samples': 74, 'min_sum_hessian_in_leaf': 7.604314407518383, 'is_unbalance': True, 'random_state': 42}. Best is trial 2 with value: 0.8782763658903746.\n"
     ]
    },
    {
     "name": "stdout",
     "output_type": "stream",
     "text": [
      "ROC AUC: 0.8687184539095014; Accuracy: 0.9143389199255121; Precision: 0.0; Recall: 0.0; F1 Score: 0.0; PR AUC: 0.45464865099678997; Log Loss: 0.25540820945679654\n"
     ]
    },
    {
     "name": "stderr",
     "output_type": "stream",
     "text": [
      "C:\\Users\\Artem\\anaconda3\\Lib\\site-packages\\sklearn\\metrics\\_classification.py:1344: UndefinedMetricWarning: Precision is ill-defined and being set to 0.0 due to no predicted samples. Use `zero_division` parameter to control this behavior.\n",
      "  _warn_prf(average, modifier, msg_start, len(result))\n",
      "[I 2023-09-10 01:04:20,295] Trial 4 finished with value: 0.8747454175152749 and parameters: {'num_leaves': 170, 'learning_rate': 0.006047550729785, 'feature_fraction': 0.28010738296894133, 'bagging_fraction': 0.7521595028878314, 'bagging_freq': 5, 'max_depth': 7, 'min_child_samples': 25, 'min_sum_hessian_in_leaf': 5.6734578114765055, 'is_unbalance': True, 'random_state': 42}. Best is trial 2 with value: 0.8782763658903746.\n"
     ]
    },
    {
     "name": "stdout",
     "output_type": "stream",
     "text": [
      "ROC AUC: 0.8747454175152749; Accuracy: 0.9143389199255121; Precision: 0.0; Recall: 0.0; F1 Score: 0.0; PR AUC: 0.5149605992271745; Log Loss: 0.2648658518740617\n"
     ]
    },
    {
     "name": "stderr",
     "output_type": "stream",
     "text": [
      "[I 2023-09-10 01:04:20,760] Trial 5 pruned. Trial was pruned at iteration 8.\n",
      "[I 2023-09-10 01:04:21,291] Trial 6 pruned. Trial was pruned at iteration 0.\n",
      "[I 2023-09-10 01:04:21,757] Trial 7 pruned. Trial was pruned at iteration 0.\n",
      "[I 2023-09-10 01:04:22,218] Trial 8 pruned. Trial was pruned at iteration 0.\n",
      "[I 2023-09-10 01:04:22,682] Trial 9 pruned. Trial was pruned at iteration 1.\n",
      "[I 2023-09-10 01:04:23,174] Trial 10 pruned. Trial was pruned at iteration 1.\n",
      "C:\\Users\\Artem\\anaconda3\\Lib\\site-packages\\sklearn\\metrics\\_classification.py:1344: UndefinedMetricWarning: Precision is ill-defined and being set to 0.0 due to no predicted samples. Use `zero_division` parameter to control this behavior.\n",
      "  _warn_prf(average, modifier, msg_start, len(result))\n",
      "[I 2023-09-10 01:04:23,952] Trial 11 finished with value: 0.9130988222792881 and parameters: {'num_leaves': 156, 'learning_rate': 0.01387981031756079, 'feature_fraction': 0.10012284357020612, 'bagging_fraction': 0.9993840904900294, 'bagging_freq': 5, 'max_depth': 12, 'min_child_samples': 33, 'min_sum_hessian_in_leaf': 4.35516166867488, 'is_unbalance': True, 'random_state': 42}. Best is trial 11 with value: 0.9130988222792881.\n"
     ]
    },
    {
     "name": "stdout",
     "output_type": "stream",
     "text": [
      "ROC AUC: 0.9130988222792881; Accuracy: 0.9143389199255121; Precision: 0.0; Recall: 0.0; F1 Score: 0.0; PR AUC: 0.61622853703879; Log Loss: 0.2591537581610899\n"
     ]
    },
    {
     "name": "stderr",
     "output_type": "stream",
     "text": [
      "C:\\Users\\Artem\\anaconda3\\Lib\\site-packages\\sklearn\\metrics\\_classification.py:1344: UndefinedMetricWarning: Precision is ill-defined and being set to 0.0 due to no predicted samples. Use `zero_division` parameter to control this behavior.\n",
      "  _warn_prf(average, modifier, msg_start, len(result))\n",
      "[I 2023-09-10 01:04:24,733] Trial 12 finished with value: 0.9079130877534756 and parameters: {'num_leaves': 139, 'learning_rate': 0.017720502511548036, 'feature_fraction': 0.14964774816041773, 'bagging_fraction': 0.9884950834768432, 'bagging_freq': 3, 'max_depth': 12, 'min_child_samples': 32, 'min_sum_hessian_in_leaf': 4.089623507861096, 'is_unbalance': True, 'random_state': 42}. Best is trial 11 with value: 0.9130988222792881.\n"
     ]
    },
    {
     "name": "stdout",
     "output_type": "stream",
     "text": [
      "ROC AUC: 0.9079130877534756; Accuracy: 0.9143389199255121; Precision: 0.0; Recall: 0.0; F1 Score: 0.0; PR AUC: 0.5610409031399128; Log Loss: 0.2615984750800105\n"
     ]
    },
    {
     "name": "stderr",
     "output_type": "stream",
     "text": [
      "C:\\Users\\Artem\\anaconda3\\Lib\\site-packages\\sklearn\\metrics\\_classification.py:1344: UndefinedMetricWarning: Precision is ill-defined and being set to 0.0 due to no predicted samples. Use `zero_division` parameter to control this behavior.\n",
      "  _warn_prf(average, modifier, msg_start, len(result))\n",
      "[I 2023-09-10 01:04:25,513] Trial 13 finished with value: 0.9085384751616046 and parameters: {'num_leaves': 123, 'learning_rate': 0.015008442957293483, 'feature_fraction': 0.11744912816326186, 'bagging_fraction': 0.9992220880571453, 'bagging_freq': 2, 'max_depth': 12, 'min_child_samples': 31, 'min_sum_hessian_in_leaf': 3.5676272375677103, 'is_unbalance': True, 'random_state': 42}. Best is trial 11 with value: 0.9130988222792881.\n"
     ]
    },
    {
     "name": "stdout",
     "output_type": "stream",
     "text": [
      "ROC AUC: 0.9085384751616046; Accuracy: 0.9143389199255121; Precision: 0.0; Recall: 0.0; F1 Score: 0.0; PR AUC: 0.585014086646785; Log Loss: 0.26475969858910997\n"
     ]
    },
    {
     "name": "stderr",
     "output_type": "stream",
     "text": [
      "[I 2023-09-10 01:04:26,001] Trial 14 pruned. Trial was pruned at iteration 0.\n",
      "C:\\Users\\Artem\\anaconda3\\Lib\\site-packages\\sklearn\\metrics\\_classification.py:1344: UndefinedMetricWarning: Precision is ill-defined and being set to 0.0 due to no predicted samples. Use `zero_division` parameter to control this behavior.\n",
      "  _warn_prf(average, modifier, msg_start, len(result))\n",
      "[I 2023-09-10 01:04:26,854] Trial 15 finished with value: 0.9037180111573542 and parameters: {'num_leaves': 191, 'learning_rate': 0.03144101718997864, 'feature_fraction': 0.1247391516063645, 'bagging_fraction': 0.8792522799449574, 'bagging_freq': 6, 'max_depth': 10, 'min_child_samples': 19, 'min_sum_hessian_in_leaf': 2.2532158259863095, 'is_unbalance': True, 'random_state': 42}. Best is trial 11 with value: 0.9130988222792881.\n"
     ]
    },
    {
     "name": "stdout",
     "output_type": "stream",
     "text": [
      "ROC AUC: 0.9037180111573542; Accuracy: 0.9143389199255121; Precision: 0.0; Recall: 0.0; F1 Score: 0.0; PR AUC: 0.6510882304713491; Log Loss: 0.22761359264375478\n"
     ]
    },
    {
     "name": "stderr",
     "output_type": "stream",
     "text": [
      "[I 2023-09-10 01:04:27,363] Trial 16 pruned. Trial was pruned at iteration 2.\n",
      "[I 2023-09-10 01:04:27,868] Trial 17 pruned. Trial was pruned at iteration 0.\n",
      "[I 2023-09-10 01:04:28,370] Trial 18 pruned. Trial was pruned at iteration 0.\n",
      "[I 2023-09-10 01:04:28,870] Trial 19 pruned. Trial was pruned at iteration 2.\n",
      "[I 2023-09-10 01:04:29,367] Trial 20 pruned. Trial was pruned at iteration 0.\n",
      "C:\\Users\\Artem\\anaconda3\\Lib\\site-packages\\sklearn\\metrics\\_classification.py:1344: UndefinedMetricWarning: Precision is ill-defined and being set to 0.0 due to no predicted samples. Use `zero_division` parameter to control this behavior.\n",
      "  _warn_prf(average, modifier, msg_start, len(result))\n",
      "[I 2023-09-10 01:04:30,172] Trial 21 finished with value: 0.9106636854688744 and parameters: {'num_leaves': 139, 'learning_rate': 0.01717549908582081, 'feature_fraction': 0.18446764311468294, 'bagging_fraction': 0.9788980652436002, 'bagging_freq': 3, 'max_depth': 12, 'min_child_samples': 29, 'min_sum_hessian_in_leaf': 3.88773581039711, 'is_unbalance': True, 'random_state': 42}. Best is trial 11 with value: 0.9130988222792881.\n"
     ]
    },
    {
     "name": "stdout",
     "output_type": "stream",
     "text": [
      "ROC AUC: 0.9106636854688744; Accuracy: 0.9143389199255121; Precision: 0.0; Recall: 0.0; F1 Score: 0.0; PR AUC: 0.5419195201377168; Log Loss: 0.2639914884747421\n"
     ]
    },
    {
     "name": "stderr",
     "output_type": "stream",
     "text": [
      "C:\\Users\\Artem\\anaconda3\\Lib\\site-packages\\sklearn\\metrics\\_classification.py:1344: UndefinedMetricWarning: Precision is ill-defined and being set to 0.0 due to no predicted samples. Use `zero_division` parameter to control this behavior.\n",
      "  _warn_prf(average, modifier, msg_start, len(result))\n",
      "[I 2023-09-10 01:04:30,999] Trial 22 finished with value: 0.8919186664305323 and parameters: {'num_leaves': 172, 'learning_rate': 0.016048971852232547, 'feature_fraction': 0.20656851374178803, 'bagging_fraction': 0.9463046320564037, 'bagging_freq': 2, 'max_depth': 11, 'min_child_samples': 27, 'min_sum_hessian_in_leaf': 3.341329846070707, 'is_unbalance': True, 'random_state': 42}. Best is trial 11 with value: 0.9130988222792881.\n"
     ]
    },
    {
     "name": "stdout",
     "output_type": "stream",
     "text": [
      "ROC AUC: 0.8919186664305323; Accuracy: 0.9143389199255121; Precision: 0.0; Recall: 0.0; F1 Score: 0.0; PR AUC: 0.5966774797631362; Log Loss: 0.25623935985037755\n"
     ]
    },
    {
     "name": "stderr",
     "output_type": "stream",
     "text": [
      "[I 2023-09-10 01:04:31,487] Trial 23 pruned. Trial was pruned at iteration 0.\n",
      "[I 2023-09-10 01:04:31,988] Trial 24 pruned. Trial was pruned at iteration 2.\n",
      "[I 2023-09-10 01:04:32,489] Trial 25 pruned. Trial was pruned at iteration 2.\n",
      "[I 2023-09-10 01:04:32,986] Trial 26 pruned. Trial was pruned at iteration 0.\n",
      "[I 2023-09-10 01:04:33,487] Trial 27 pruned. Trial was pruned at iteration 2.\n",
      "[I 2023-09-10 01:04:33,978] Trial 28 pruned. Trial was pruned at iteration 0.\n",
      "[I 2023-09-10 01:04:34,478] Trial 29 pruned. Trial was pruned at iteration 2.\n",
      "[I 2023-09-10 01:04:34,974] Trial 30 pruned. Trial was pruned at iteration 2.\n",
      "[I 2023-09-10 01:04:35,471] Trial 31 pruned. Trial was pruned at iteration 0.\n",
      "C:\\Users\\Artem\\anaconda3\\Lib\\site-packages\\sklearn\\metrics\\_classification.py:1344: UndefinedMetricWarning: Precision is ill-defined and being set to 0.0 due to no predicted samples. Use `zero_division` parameter to control this behavior.\n",
      "  _warn_prf(average, modifier, msg_start, len(result))\n",
      "[I 2023-09-10 01:04:36,264] Trial 32 finished with value: 0.905776808642522 and parameters: {'num_leaves': 121, 'learning_rate': 0.020034539875915466, 'feature_fraction': 0.15528207538306765, 'bagging_fraction': 0.9822907916428926, 'bagging_freq': 3, 'max_depth': 12, 'min_child_samples': 28, 'min_sum_hessian_in_leaf': 4.181525446351358, 'is_unbalance': True, 'random_state': 42}. Best is trial 11 with value: 0.9130988222792881.\n"
     ]
    },
    {
     "name": "stdout",
     "output_type": "stream",
     "text": [
      "ROC AUC: 0.905776808642522; Accuracy: 0.9143389199255121; Precision: 0.0; Recall: 0.0; F1 Score: 0.0; PR AUC: 0.5584122894648308; Log Loss: 0.25799935395352974\n"
     ]
    },
    {
     "name": "stderr",
     "output_type": "stream",
     "text": [
      "[I 2023-09-10 01:04:36,758] Trial 33 pruned. Trial was pruned at iteration 0.\n",
      "[I 2023-09-10 01:04:37,259] Trial 34 pruned. Trial was pruned at iteration 0.\n",
      "[I 2023-09-10 01:04:37,758] Trial 35 pruned. Trial was pruned at iteration 1.\n",
      "[I 2023-09-10 01:04:38,252] Trial 36 pruned. Trial was pruned at iteration 0.\n",
      "[I 2023-09-10 01:04:38,745] Trial 37 pruned. Trial was pruned at iteration 1.\n",
      "[I 2023-09-10 01:04:39,241] Trial 38 pruned. Trial was pruned at iteration 0.\n",
      "[I 2023-09-10 01:04:39,803] Trial 39 pruned. Trial was pruned at iteration 0.\n",
      "[I 2023-09-10 01:04:40,327] Trial 40 pruned. Trial was pruned at iteration 0.\n",
      "C:\\Users\\Artem\\anaconda3\\Lib\\site-packages\\sklearn\\metrics\\_classification.py:1344: UndefinedMetricWarning: Precision is ill-defined and being set to 0.0 due to no predicted samples. Use `zero_division` parameter to control this behavior.\n",
      "  _warn_prf(average, modifier, msg_start, len(result))\n",
      "[I 2023-09-10 01:04:41,137] Trial 41 finished with value: 0.905372797308067 and parameters: {'num_leaves': 122, 'learning_rate': 0.017720777260214045, 'feature_fraction': 0.16341127895850344, 'bagging_fraction': 0.9552167005217416, 'bagging_freq': 3, 'max_depth': 12, 'min_child_samples': 30, 'min_sum_hessian_in_leaf': 4.146385362851637, 'is_unbalance': True, 'random_state': 42}. Best is trial 11 with value: 0.9130988222792881.\n"
     ]
    },
    {
     "name": "stdout",
     "output_type": "stream",
     "text": [
      "ROC AUC: 0.905372797308067; Accuracy: 0.9143389199255121; Precision: 0.0; Recall: 0.0; F1 Score: 0.0; PR AUC: 0.601605694850979; Log Loss: 0.2488188541374099\n"
     ]
    },
    {
     "name": "stderr",
     "output_type": "stream",
     "text": [
      "[I 2023-09-10 01:04:41,635] Trial 42 pruned. Trial was pruned at iteration 2.\n",
      "[I 2023-09-10 01:04:42,137] Trial 43 pruned. Trial was pruned at iteration 3.\n",
      "[I 2023-09-10 01:04:42,637] Trial 44 pruned. Trial was pruned at iteration 0.\n",
      "[I 2023-09-10 01:04:43,149] Trial 45 pruned. Trial was pruned at iteration 1.\n",
      "[I 2023-09-10 01:04:43,659] Trial 46 pruned. Trial was pruned at iteration 0.\n",
      "[I 2023-09-10 01:04:44,170] Trial 47 pruned. Trial was pruned at iteration 0.\n",
      "[I 2023-09-10 01:04:44,674] Trial 48 pruned. Trial was pruned at iteration 1.\n",
      "[I 2023-09-10 01:04:45,172] Trial 49 pruned. Trial was pruned at iteration 0.\n",
      "[I 2023-09-10 01:04:45,673] Trial 50 pruned. Trial was pruned at iteration 0.\n",
      "[I 2023-09-10 01:04:46,186] Trial 51 pruned. Trial was pruned at iteration 7.\n",
      "[I 2023-09-10 01:04:46,698] Trial 52 pruned. Trial was pruned at iteration 0.\n",
      "[I 2023-09-10 01:04:47,199] Trial 53 pruned. Trial was pruned at iteration 1.\n",
      "[I 2023-09-10 01:04:47,698] Trial 54 pruned. Trial was pruned at iteration 1.\n",
      "[I 2023-09-10 01:04:48,200] Trial 55 pruned. Trial was pruned at iteration 1.\n",
      "[I 2023-09-10 01:04:48,711] Trial 56 pruned. Trial was pruned at iteration 0.\n",
      "[I 2023-09-10 01:04:49,213] Trial 57 pruned. Trial was pruned at iteration 0.\n",
      "[I 2023-09-10 01:04:49,718] Trial 58 pruned. Trial was pruned at iteration 1.\n",
      "[I 2023-09-10 01:04:50,222] Trial 59 pruned. Trial was pruned at iteration 2.\n",
      "[I 2023-09-10 01:04:50,722] Trial 60 pruned. Trial was pruned at iteration 1.\n",
      "[I 2023-09-10 01:04:51,226] Trial 61 pruned. Trial was pruned at iteration 0.\n",
      "[I 2023-09-10 01:04:51,733] Trial 62 pruned. Trial was pruned at iteration 0.\n",
      "C:\\Users\\Artem\\anaconda3\\Lib\\site-packages\\sklearn\\metrics\\_classification.py:1344: UndefinedMetricWarning: Precision is ill-defined and being set to 0.0 due to no predicted samples. Use `zero_division` parameter to control this behavior.\n",
      "  _warn_prf(average, modifier, msg_start, len(result))\n",
      "[I 2023-09-10 01:04:52,577] Trial 63 finished with value: 0.9171942796422562 and parameters: {'num_leaves': 130, 'learning_rate': 0.03078464812909954, 'feature_fraction': 0.10045241754824726, 'bagging_fraction': 0.9999127888996776, 'bagging_freq': 8, 'max_depth': 11, 'min_child_samples': 17, 'min_sum_hessian_in_leaf': 4.3682297661370235, 'is_unbalance': True, 'random_state': 42}. Best is trial 63 with value: 0.9171942796422562.\n"
     ]
    },
    {
     "name": "stdout",
     "output_type": "stream",
     "text": [
      "ROC AUC: 0.9171942796422562; Accuracy: 0.9143389199255121; Precision: 0.0; Recall: 0.0; F1 Score: 0.0; PR AUC: 0.716361016378214; Log Loss: 0.21843503814057696\n"
     ]
    },
    {
     "name": "stderr",
     "output_type": "stream",
     "text": [
      "[I 2023-09-10 01:04:53,069] Trial 64 pruned. Trial was pruned at iteration 0.\n",
      "[I 2023-09-10 01:04:53,575] Trial 65 pruned. Trial was pruned at iteration 1.\n",
      "[I 2023-09-10 01:04:54,075] Trial 66 pruned. Trial was pruned at iteration 2.\n",
      "[I 2023-09-10 01:04:54,577] Trial 67 pruned. Trial was pruned at iteration 1.\n",
      "[I 2023-09-10 01:04:55,087] Trial 68 pruned. Trial was pruned at iteration 2.\n",
      "[I 2023-09-10 01:04:55,590] Trial 69 pruned. Trial was pruned at iteration 0.\n",
      "[I 2023-09-10 01:04:56,097] Trial 70 pruned. Trial was pruned at iteration 1.\n",
      "[I 2023-09-10 01:04:56,663] Trial 71 pruned. Trial was pruned at iteration 1.\n",
      "[I 2023-09-10 01:04:57,167] Trial 72 pruned. Trial was pruned at iteration 0.\n",
      "[I 2023-09-10 01:04:57,674] Trial 73 pruned. Trial was pruned at iteration 0.\n",
      "[I 2023-09-10 01:04:58,183] Trial 74 pruned. Trial was pruned at iteration 1.\n",
      "[I 2023-09-10 01:04:58,696] Trial 75 pruned. Trial was pruned at iteration 0.\n",
      "[I 2023-09-10 01:04:59,206] Trial 76 pruned. Trial was pruned at iteration 0.\n",
      "[I 2023-09-10 01:04:59,723] Trial 77 pruned. Trial was pruned at iteration 0.\n",
      "[I 2023-09-10 01:05:00,241] Trial 78 pruned. Trial was pruned at iteration 0.\n",
      "[I 2023-09-10 01:05:00,756] Trial 79 pruned. Trial was pruned at iteration 3.\n",
      "[I 2023-09-10 01:05:01,260] Trial 80 pruned. Trial was pruned at iteration 0.\n",
      "[I 2023-09-10 01:05:01,766] Trial 81 pruned. Trial was pruned at iteration 3.\n",
      "C:\\Users\\Artem\\anaconda3\\Lib\\site-packages\\sklearn\\metrics\\_classification.py:1344: UndefinedMetricWarning: Precision is ill-defined and being set to 0.0 due to no predicted samples. Use `zero_division` parameter to control this behavior.\n",
      "  _warn_prf(average, modifier, msg_start, len(result))\n",
      "[I 2023-09-10 01:05:02,645] Trial 82 finished with value: 0.9100438324625875 and parameters: {'num_leaves': 189, 'learning_rate': 0.015880178435319026, 'feature_fraction': 0.1734485226717533, 'bagging_fraction': 0.9787812438851328, 'bagging_freq': 3, 'max_depth': 12, 'min_child_samples': 19, 'min_sum_hessian_in_leaf': 3.9540643691493216, 'is_unbalance': True, 'random_state': 42}. Best is trial 63 with value: 0.9171942796422562.\n"
     ]
    },
    {
     "name": "stdout",
     "output_type": "stream",
     "text": [
      "ROC AUC: 0.9100438324625875; Accuracy: 0.9143389199255121; Precision: 0.0; Recall: 0.0; F1 Score: 0.0; PR AUC: 0.6214275546865221; Log Loss: 0.2678197956079322\n"
     ]
    },
    {
     "name": "stderr",
     "output_type": "stream",
     "text": [
      "[I 2023-09-10 01:05:03,148] Trial 83 pruned. Trial was pruned at iteration 0.\n",
      "[I 2023-09-10 01:05:03,653] Trial 84 pruned. Trial was pruned at iteration 0.\n",
      "[I 2023-09-10 01:05:04,155] Trial 85 pruned. Trial was pruned at iteration 0.\n",
      "[I 2023-09-10 01:05:04,661] Trial 86 pruned. Trial was pruned at iteration 0.\n",
      "[I 2023-09-10 01:05:05,166] Trial 87 pruned. Trial was pruned at iteration 0.\n",
      "[I 2023-09-10 01:05:05,678] Trial 88 pruned. Trial was pruned at iteration 0.\n",
      "[I 2023-09-10 01:05:06,184] Trial 89 pruned. Trial was pruned at iteration 1.\n",
      "[I 2023-09-10 01:05:06,683] Trial 90 pruned. Trial was pruned at iteration 0.\n",
      "C:\\Users\\Artem\\anaconda3\\Lib\\site-packages\\sklearn\\metrics\\_classification.py:1344: UndefinedMetricWarning: Precision is ill-defined and being set to 0.0 due to no predicted samples. Use `zero_division` parameter to control this behavior.\n",
      "  _warn_prf(average, modifier, msg_start, len(result))\n",
      "[I 2023-09-10 01:05:07,492] Trial 91 finished with value: 0.9079462941645267 and parameters: {'num_leaves': 166, 'learning_rate': 0.014558554876082834, 'feature_fraction': 0.14450963627934071, 'bagging_fraction': 0.9830247000763846, 'bagging_freq': 2, 'max_depth': 12, 'min_child_samples': 27, 'min_sum_hessian_in_leaf': 3.469948736285919, 'is_unbalance': True, 'random_state': 42}. Best is trial 63 with value: 0.9171942796422562.\n"
     ]
    },
    {
     "name": "stdout",
     "output_type": "stream",
     "text": [
      "ROC AUC: 0.9079462941645267; Accuracy: 0.9143389199255121; Precision: 0.0; Recall: 0.0; F1 Score: 0.0; PR AUC: 0.6336849630280837; Log Loss: 0.2641986105264968\n"
     ]
    },
    {
     "name": "stderr",
     "output_type": "stream",
     "text": [
      "C:\\Users\\Artem\\anaconda3\\Lib\\site-packages\\sklearn\\metrics\\_classification.py:1344: UndefinedMetricWarning: Precision is ill-defined and being set to 0.0 due to no predicted samples. Use `zero_division` parameter to control this behavior.\n",
      "  _warn_prf(average, modifier, msg_start, len(result))\n",
      "[I 2023-09-10 01:05:08,294] Trial 92 finished with value: 0.9180299743203755 and parameters: {'num_leaves': 187, 'learning_rate': 0.014392528833066335, 'feature_fraction': 0.13496648152122087, 'bagging_fraction': 0.9876052174735012, 'bagging_freq': 2, 'max_depth': 12, 'min_child_samples': 28, 'min_sum_hessian_in_leaf': 2.752827497441662, 'is_unbalance': True, 'random_state': 42}. Best is trial 92 with value: 0.9180299743203755.\n"
     ]
    },
    {
     "name": "stdout",
     "output_type": "stream",
     "text": [
      "ROC AUC: 0.9180299743203755; Accuracy: 0.9143389199255121; Precision: 0.0; Recall: 0.0; F1 Score: 0.0; PR AUC: 0.6323204747095775; Log Loss: 0.26071392970135004\n"
     ]
    },
    {
     "name": "stderr",
     "output_type": "stream",
     "text": [
      "[I 2023-09-10 01:05:08,791] Trial 93 pruned. Trial was pruned at iteration 0.\n",
      "[I 2023-09-10 01:05:09,294] Trial 94 pruned. Trial was pruned at iteration 0.\n",
      "[I 2023-09-10 01:05:09,796] Trial 95 pruned. Trial was pruned at iteration 0.\n",
      "[I 2023-09-10 01:05:10,304] Trial 96 pruned. Trial was pruned at iteration 2.\n",
      "[I 2023-09-10 01:05:10,814] Trial 97 pruned. Trial was pruned at iteration 1.\n",
      "[I 2023-09-10 01:05:11,318] Trial 98 pruned. Trial was pruned at iteration 0.\n",
      "[I 2023-09-10 01:05:11,824] Trial 99 pruned. Trial was pruned at iteration 0.\n"
     ]
    },
    {
     "name": "stdout",
     "output_type": "stream",
     "text": [
      "end tuning...\n",
      "best params: {'lgbm__num_leaves': 187, 'lgbm__learning_rate': 0.014392528833066335, 'lgbm__feature_fraction': 0.13496648152122087, 'lgbm__bagging_fraction': 0.9876052174735012, 'lgbm__bagging_freq': 2, 'lgbm__max_depth': 12, 'lgbm__min_child_samples': 28, 'lgbm__min_sum_hessian_in_leaf': 2.752827497441662, 'lgbm__is_unbalance': True, 'lgbm__random_state': 42}\n",
      "best score: 0.9180299743203755\n",
      "roc_auc on validate data = 0.7214756929071107\n",
      "metrics on test data:\n",
      "ROC AUC: 0.8865325071780408; Accuracy: 0.9439704865114135; Precision: 0.2565217391304348; Recall: 0.45038167938931295; F1 Score: 0.3268698060941828; PR AUC: 0.23645772891042358; Log Loss: 0.19516081567686666\n",
      "CPU times: total: 25min 12s\n",
      "Wall time: 3min 3s\n"
     ]
    }
   ],
   "source": [
    "%%time\n",
    "models = builder.build(df)"
   ]
  },
  {
   "cell_type": "code",
   "execution_count": 31,
   "id": "99ff2b42-458f-464a-b74b-c3e59096b356",
   "metadata": {
    "execution": {
     "iopub.execute_input": "2023-09-09T20:08:52.939282Z",
     "iopub.status.busy": "2023-09-09T20:08:52.939282Z",
     "iopub.status.idle": "2023-09-09T20:08:52.942284Z",
     "shell.execute_reply": "2023-09-09T20:08:52.942284Z",
     "shell.execute_reply.started": "2023-09-09T20:08:52.939282Z"
    },
    "tags": []
   },
   "outputs": [],
   "source": [
    "import pickle"
   ]
  },
  {
   "cell_type": "code",
   "execution_count": 38,
   "id": "e57c834c-9710-44c2-8879-3271c0f54c21",
   "metadata": {
    "execution": {
     "iopub.execute_input": "2023-09-09T20:16:50.274124Z",
     "iopub.status.busy": "2023-09-09T20:16:50.274124Z",
     "iopub.status.idle": "2023-09-09T20:16:50.291897Z",
     "shell.execute_reply": "2023-09-09T20:16:50.291897Z",
     "shell.execute_reply.started": "2023-09-09T20:16:50.274124Z"
    },
    "tags": []
   },
   "outputs": [],
   "source": [
    "with open(f'model.pickle', 'wb') as f:\n",
    "    pickle.dump(models, f)"
   ]
  },
  {
   "cell_type": "code",
   "execution_count": 40,
   "id": "9093e508-eceb-4449-8e9c-6634887780b7",
   "metadata": {
    "execution": {
     "iopub.execute_input": "2023-09-09T20:17:21.825277Z",
     "iopub.status.busy": "2023-09-09T20:17:21.825277Z",
     "iopub.status.idle": "2023-09-09T20:17:21.846753Z",
     "shell.execute_reply": "2023-09-09T20:17:21.846753Z",
     "shell.execute_reply.started": "2023-09-09T20:17:21.825277Z"
    },
    "tags": []
   },
   "outputs": [],
   "source": [
    "# with open(f'model.pickle', 'rb') as f:\n",
    "#     md = pickle.load(f)"
   ]
  },
  {
   "cell_type": "markdown",
   "id": "1b1b0fde-d484-46d3-97ba-701e88791264",
   "metadata": {
    "tags": []
   },
   "source": [
    "# 4. Submission file"
   ]
  },
  {
   "cell_type": "code",
   "execution_count": 229,
   "id": "b8192fb0-7fba-49ed-bb35-6dcff0a9444a",
   "metadata": {
    "execution": {
     "iopub.execute_input": "2023-09-09T18:54:10.046739Z",
     "iopub.status.busy": "2023-09-09T18:54:10.046739Z",
     "iopub.status.idle": "2023-09-09T18:54:10.049901Z",
     "shell.execute_reply": "2023-09-09T18:54:10.049901Z",
     "shell.execute_reply.started": "2023-09-09T18:54:10.046739Z"
    },
    "tags": []
   },
   "outputs": [],
   "source": [
    "def inference_model(df, models, prob_col='score'):\n",
    "    preds = []\n",
    "    for m in models:\n",
    "        preds.append(m.predict_proba(df_test)[:, 1])\n",
    "    df[prob_col] = pd.DataFrame(preds).mean()\n",
    "    return df"
   ]
  },
  {
   "cell_type": "code",
   "execution_count": null,
   "id": "f02dbd11-e3a7-439e-9e4d-4dedb52fc1c7",
   "metadata": {},
   "outputs": [],
   "source": [
    "test = pd.read_csv(...)"
   ]
  },
  {
   "cell_type": "code",
   "execution_count": null,
   "id": "c2d8c1a7-9700-45ae-9595-0f472b6ce83e",
   "metadata": {},
   "outputs": [],
   "source": [
    "test = inference_model(test, models)"
   ]
  },
  {
   "cell_type": "code",
   "execution_count": null,
   "id": "441d346d-6b91-4845-97cf-338e90ed7239",
   "metadata": {},
   "outputs": [],
   "source": [
    "sample_submission = test.loc[:, ['report_date', 'client_id', 'score']]"
   ]
  },
  {
   "cell_type": "code",
   "execution_count": null,
   "id": "ee37ca61-c424-4417-88a2-a5f73465d8a0",
   "metadata": {},
   "outputs": [],
   "source": [
    "sample_submission.to_csv('result_novichki.csv')"
   ]
  },
  {
   "cell_type": "code",
   "execution_count": null,
   "id": "c16121ec-0690-4b24-a9bc-8d212fae3621",
   "metadata": {},
   "outputs": [],
   "source": []
  }
 ],
 "metadata": {
  "kernelspec": {
   "display_name": "Python 3 (ipykernel)",
   "language": "python",
   "name": "python3"
  },
  "language_info": {
   "codemirror_mode": {
    "name": "ipython",
    "version": 3
   },
   "file_extension": ".py",
   "mimetype": "text/x-python",
   "name": "python",
   "nbconvert_exporter": "python",
   "pygments_lexer": "ipython3",
   "version": "3.11.4"
  }
 },
 "nbformat": 4,
 "nbformat_minor": 5
}
